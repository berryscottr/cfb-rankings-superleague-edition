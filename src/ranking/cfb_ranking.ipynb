{
 "cells": [
  {
   "cell_type": "markdown",
   "metadata": {
    "collapsed": true,
    "pycharm": {
     "name": "#%% md\n"
    }
   },
   "source": [
    "Import requirements"
   ]
  },
  {
   "cell_type": "code",
   "source": [
    "import os\n",
    "\n",
    "import pandas as pd\n",
    "from datetime import datetime as dt"
   ],
   "metadata": {
    "collapsed": false,
    "pycharm": {
     "name": "#%%\n"
    }
   },
   "execution_count": 1,
   "outputs": []
  },
  {
   "cell_type": "markdown",
   "source": [
    "Here, we create the CFB Model Dataframes"
   ],
   "metadata": {
    "collapsed": false,
    "pycharm": {
     "name": "#%% md\n"
    }
   }
  },
  {
   "cell_type": "code",
   "source": [
    "class CFBDataframe:\n",
    "    def __init__(self):\n",
    "        # initialize dataframes with headers\n",
    "        self.drives = [[], pd.DataFrame()]\n",
    "        self.games = [[], pd.DataFrame()]\n",
    "        self.lines = [[], pd.DataFrame()]\n",
    "        self.player = [[], pd.DataFrame()]\n",
    "        self.usage = [[], pd.DataFrame()]\n",
    "        self.recruit = [[], pd.DataFrame()]\n",
    "\n",
    "    def csv_to_df(self, df_type, season):\n",
    "        # set file name\n",
    "        file = \"../data/{i}/{j}_{i}.csv\".format(i=df_type, j=season)\n",
    "        # import data with Windows encoding\n",
    "        try:\n",
    "            df = pd.read_csv(file, encoding='ANSI')\n",
    "        # if not Windows, do Mac encoding\n",
    "        except LookupError:\n",
    "            df = pd.read_csv(file, encoding='ISO-8859-1')\n",
    "        # set first row as headers\n",
    "        df.rename(columns=df.iloc[0])\n",
    "        # concatenate all years of data on dataframe type match\n",
    "        if df_type == \"drives\":\n",
    "            self.drives[0].append(df)\n",
    "            self.drives[1] = pd.concat(self.drives[0])\n",
    "        elif df_type == \"games\":\n",
    "            self.games[0].append(df)\n",
    "            self.games[1] = pd.concat(self.games[0])\n",
    "        elif df_type == \"lines\":\n",
    "            self.lines[0].append(df)\n",
    "            self.lines[1] = pd.concat(self.lines[0])\n",
    "        elif df_type == \"player_season_stats\":\n",
    "            self.player[0].append(df)\n",
    "            self.player[1] = pd.concat(self.player[0])\n",
    "        elif df_type == \"player_usage\":\n",
    "            self.usage[0].append(df)\n",
    "            self.usage[1] = pd.concat(self.usage[0])\n",
    "        elif df_type == \"recruiting_players\":\n",
    "            self.recruit[0].append(df)\n",
    "            self.recruit[1] = pd.concat(self.recruit[0])\n"
   ],
   "metadata": {
    "collapsed": false,
    "pycharm": {
     "name": "#%%\n"
    }
   },
   "execution_count": 2,
   "outputs": []
  },
  {
   "cell_type": "markdown",
   "source": [
    "Build the CFB dataframe with the scraped game data"
   ],
   "metadata": {
    "collapsed": false,
    "pycharm": {
     "name": "#%% md\n"
    }
   }
  },
  {
   "cell_type": "code",
   "source": [
    "cfb_df = CFBDataframe()\n",
    "for year in range(2010, dt.today().year):\n",
    "    for directory in next(os.walk('../data'))[1]:\n",
    "        try:\n",
    "            cfb_df.csv_to_df(directory, year)\n",
    "        except FileNotFoundError:\n",
    "            pass"
   ],
   "metadata": {
    "collapsed": false,
    "pycharm": {
     "name": "#%%\n"
    }
   },
   "execution_count": 3,
   "outputs": []
  },
  {
   "cell_type": "markdown",
   "source": [
    "Here, we initialize attributes and methods used to manipulate CFB Model"
   ],
   "metadata": {
    "collapsed": false,
    "pycharm": {
     "name": "#%% md\n"
    }
   }
  },
  {
   "cell_type": "code",
   "execution_count": 4,
   "outputs": [],
   "source": [
    "class CFBModel:\n",
    "    def __init__(self, df):\n",
    "        # create dictionary of dataframes\n",
    "        self.data = {\"drives\": df.drives[1], \"games\": df.games[1], \"lines\": df.lines[1],\n",
    "                     \"player\": df.player[1], \"usage\": df.usage[1], \"recruit\": df.recruit[1]}\n",
    "\n",
    "    def home_favored(self):\n",
    "        mean_home_points = pd.Series.mean(self.data[\"games\"][\"_home_points\"])\n",
    "        mean_away_points = pd.Series.mean(self.data[\"games\"][\"_away_points\"])\n",
    "        home_favored = mean_home_points - mean_away_points\n",
    "        return home_favored"
   ],
   "metadata": {
    "collapsed": false,
    "pycharm": {
     "name": "#%%\n"
    }
   }
  },
  {
   "cell_type": "markdown",
   "source": [
    "Create and perform operations on model"
   ],
   "metadata": {
    "collapsed": false
   }
  },
  {
   "cell_type": "code",
   "execution_count": 5,
   "outputs": [
    {
     "name": "stdout",
     "output_type": "stream",
     "text": [
      "Home teams win by an average of 7.30 points\n"
     ]
    }
   ],
   "source": [
    "cfb_model = CFBModel(cfb_df)\n",
    "home_favor = cfb_model.home_favored()\n",
    "print(\"Home teams win by an average of {:.2f} points\".format(home_favor))"
   ],
   "metadata": {
    "collapsed": false,
    "pycharm": {
     "name": "#%%\n"
    }
   }
  }
 ],
 "metadata": {
  "kernelspec": {
   "display_name": "Python 3",
   "language": "python",
   "name": "python3"
  },
  "language_info": {
   "codemirror_mode": {
    "name": "ipython",
    "version": 2
   },
   "file_extension": ".py",
   "mimetype": "text/x-python",
   "name": "python",
   "nbconvert_exporter": "python",
   "pygments_lexer": "ipython2",
   "version": "2.7.6"
  },
  "pycharm": {
   "stem_cell": {
    "cell_type": "raw",
    "source": [
     "# CFB Ranking\n",
     "## The Code\n"
    ],
    "metadata": {
     "collapsed": false
    }
   }
  }
 },
 "nbformat": 4,
 "nbformat_minor": 0
}