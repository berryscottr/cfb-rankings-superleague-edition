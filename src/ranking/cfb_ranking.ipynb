{
 "cells": [
  {
   "cell_type": "markdown",
   "source": [
    "Import requirements"
   ],
   "metadata": {
    "collapsed": true,
    "pycharm": {
     "name": "#%% md\n"
    }
   }
  },
  {
   "cell_type": "code",
   "execution_count": 1,
   "source": [
    "import os\n",
    "import pandas as pd\n",
    "from datetime import datetime as dt\n",
    "import unittest\n",
    "\n",
    "# pd.options.mode.chained_assignment = None\n",
    "pd.options.display.width=0\n",
    "pd.set_option('display.expand_frame_repr', False)"
   ],
   "outputs": [],
   "metadata": {
    "collapsed": false,
    "pycharm": {
     "name": "#%%\n"
    }
   }
  },
  {
   "cell_type": "markdown",
   "source": [
    "Here, we create the CFB Model Dataframes"
   ],
   "metadata": {
    "collapsed": false,
    "pycharm": {
     "name": "#%% md\n"
    }
   }
  },
  {
   "cell_type": "code",
   "execution_count": 2,
   "source": [
    "from CFBDataframe import CFBDataframe"
   ],
   "outputs": [],
   "metadata": {
    "collapsed": false,
    "pycharm": {
     "name": "#%%\n"
    }
   }
  },
  {
   "cell_type": "markdown",
   "source": [
    "Build the CFB dataframe with the scraped game data"
   ],
   "metadata": {
    "collapsed": false,
    "pycharm": {
     "name": "#%% md\n"
    }
   }
  },
  {
   "cell_type": "code",
   "execution_count": 3,
   "source": [
    "cfb_df = CFBDataframe()\n",
    "for directory in next(os.walk('../data'))[1]:\n",
    "    # non time specific dfs\n",
    "    if directory in [\"cleaned_games\",\"recruiting_groups\", \"recruiting_teams\", \"venues\"]:\n",
    "        try:\n",
    "            cfb_df.csv_to_df([directory])\n",
    "        except FileNotFoundError:\n",
    "            print(\"Missing data from\", directory)\n",
    "    else:\n",
    "        # season specific dfs\n",
    "        for year in range(2010, dt.today().year):\n",
    "            # week specific df\n",
    "            if directory == \"player_game_stats\":\n",
    "                for week in range(1, 17):\n",
    "                    try:\n",
    "                        cfb_df.csv_to_df([directory, week, year])\n",
    "                    except FileNotFoundError:\n",
    "                        print(\"Missing game data for\", year, \"week\", week)\n",
    "            elif directory == \"__pycache__\":\n",
    "                continue\n",
    "            else:\n",
    "                try:\n",
    "                    cfb_df.csv_to_df([directory, year])\n",
    "                except FileNotFoundError:\n",
    "                    print(\"Missing\", year, \"data for\", directory)"
   ],
   "outputs": [
    {
     "name": "stdout",
     "output_type": "stream",
     "text": [
      "Missing 2010 data for lines\n",
      "Missing 2011 data for lines\n",
      "Missing 2012 data for lines\n",
      "Missing game data for 2010 week 16\n",
      "Missing game data for 2011 week 16\n",
      "Missing game data for 2012 week 16\n",
      "Missing game data for 2015 week 16\n",
      "Missing game data for 2016 week 16\n",
      "Missing game data for 2017 week 16\n",
      "Missing game data for 2018 week 16\n",
      "Missing game data for 2019 week 16\n",
      "Missing 2010 data for player_usage\n",
      "Missing 2011 data for player_usage\n",
      "Missing 2012 data for player_usage\n"
     ]
    }
   ],
   "metadata": {
    "collapsed": false,
    "pycharm": {
     "name": "#%%\n"
    }
   }
  },
  {
   "cell_type": "markdown",
   "source": [
    "Here, we initialize attributes and methods used to manipulate CFB Model"
   ],
   "metadata": {
    "collapsed": false,
    "pycharm": {
     "name": "#%% md\n"
    }
   }
  },
  {
   "cell_type": "code",
   "execution_count": 4,
   "source": [
    "from CFBModel import CFBModel"
   ],
   "outputs": [],
   "metadata": {
    "collapsed": false,
    "pycharm": {
     "name": "#%%\n"
    }
   }
  },
  {
   "cell_type": "markdown",
   "source": [
    "Create and perform operations on model"
   ],
   "metadata": {
    "collapsed": false
   }
  },
  {
   "cell_type": "code",
   "execution_count": 5,
   "source": [
    "cfb_model = CFBModel(cfb_df.data_map)\n",
    "home_favor = cfb_model.home_favored()\n",
    "print(\"Home teams win by an average of {:.2f} points\".format(home_favor))\n",
    "num_cells = sum(cfb_model.data[k].size for k in cfb_model.data)\n",
    "print(\"We have {} cells of data to work with 👀\".format(num_cells))\n",
    "# print(\"Prediction\", cfb_model.regression_predict([0.77, 34]))"
   ],
   "outputs": [
    {
     "name": "stdout",
     "output_type": "stream",
     "text": [
      "Home teams win by an average of 7.18 points\n",
      "We have 13328242 cells of data to work with 👀\n"
     ]
    }
   ],
   "metadata": {
    "collapsed": false,
    "pycharm": {
     "name": "#%%\n"
    }
   }
  },
  {
   "cell_type": "code",
   "execution_count": 6,
   "source": [
    "spread_regression_model = CFBModel(cfb_df.data_map)"
   ],
   "outputs": [],
   "metadata": {}
  },
  {
   "cell_type": "code",
   "execution_count": 7,
   "source": [
    "spread_model_score = spread_regression_model.spread_prediction()\n",
    "print(spread_model_score)"
   ],
   "outputs": [
    {
     "name": "stdout",
     "output_type": "stream",
     "text": [
      "[17:32:02] WARNING: C:/Users/Administrator/workspace/xgboost-win64_release_1.4.0/src/objective/regression_obj.cu:171: reg:linear is now deprecated in favor of reg:squarederror.\n",
      "0.24035397058506502\n"
     ]
    }
   ],
   "metadata": {}
  },
  {
   "cell_type": "markdown",
   "source": [
    "Unit testing"
   ],
   "metadata": {
    "collapsed": false,
    "pycharm": {
     "name": "#%% md\n"
    }
   }
  },
  {
   "cell_type": "code",
   "execution_count": 8,
   "source": [
    "class TestRanking(unittest.TestCase):\n",
    "\n",
    "    def test_dfs(self):\n",
    "        self.assertGreater(num_cells, 0)\n",
    "        self.assertEqual(type(cfb_model.data), dict)\n",
    "        self.assertEqual(len(cfb_model.data), 11)\n",
    "\n",
    "\n",
    "unittest.main(argv=[''], verbosity=0, exit=False)"
   ],
   "outputs": [
    {
     "name": "stderr",
     "output_type": "stream",
     "text": [
      "----------------------------------------------------------------------\n",
      "Ran 1 test in 0.000s\n",
      "\n",
      "OK\n"
     ]
    },
    {
     "data": {
      "text/plain": "<unittest.main.TestProgram at 0x2261221efd0>"
     },
     "execution_count": 8,
     "metadata": {},
     "output_type": "execute_result"
    }
   ],
   "metadata": {
    "collapsed": false,
    "pycharm": {
     "name": "#%%\n"
    }
   }
  }
 ],
 "metadata": {
  "kernelspec": {
   "name": "python3",
   "language": "python",
   "display_name": "Python 3"
  },
  "language_info": {
   "name": "python",
   "version": "3.9.5",
   "mimetype": "text/x-python",
   "codemirror_mode": {
    "name": "ipython",
    "version": 3
   },
   "pygments_lexer": "ipython3",
   "nbconvert_exporter": "python",
   "file_extension": ".py"
  },
  "pycharm": {
   "stem_cell": {
    "cell_type": "raw",
    "source": [
     "# CFB Ranking\n",
     "## The Code\n"
    ],
    "metadata": {
     "collapsed": false
    }
   }
  },
  "interpreter": {
   "hash": "63fd5069d213b44bf678585dea6b12cceca9941eaf7f819626cde1f2670de90d"
  }
 },
 "nbformat": 4,
 "nbformat_minor": 2
}