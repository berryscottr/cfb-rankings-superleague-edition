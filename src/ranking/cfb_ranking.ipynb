{
 "cells": [
  {
   "cell_type": "markdown",
   "metadata": {
    "collapsed": true,
    "pycharm": {
     "name": "#%% md\n"
    }
   },
   "source": [
    "Import requirements"
   ]
  },
  {
   "cell_type": "code",
   "source": [
    "import os\n",
    "import pandas as pd\n",
    "from datetime import datetime as dt"
   ],
   "metadata": {
    "collapsed": false,
    "pycharm": {
     "name": "#%%\n"
    }
   },
   "execution_count": 1,
   "outputs": []
  },
  {
   "cell_type": "markdown",
   "source": [
    "Here, we create the CFB Model Dataframes"
   ],
   "metadata": {
    "collapsed": false,
    "pycharm": {
     "name": "#%% md\n"
    }
   }
  },
  {
   "cell_type": "code",
   "source": [
    "class CFBDataframe:\n",
    "    def __init__(self):\n",
    "        # list of dfs and empty init df\n",
    "        self.drives = [[], pd.DataFrame()]\n",
    "        self.games = [[], pd.DataFrame()]\n",
    "        self.lines = [[], pd.DataFrame()]\n",
    "        self.player_game_stats = [[], pd.DataFrame()]\n",
    "        self.player_season_stats = [[], pd.DataFrame()]\n",
    "        self.player_usage = [[], pd.DataFrame()]\n",
    "        self.recruiting_groups = [[], pd.DataFrame()]\n",
    "        self.recruiting_players = [[], pd.DataFrame()]\n",
    "        self.recruiting_teams = [[], pd.DataFrame()]\n",
    "        self.venues = [[], pd.DataFrame()]\n",
    "\n",
    "    @staticmethod\n",
    "    def append_dfs(df, df_type):\n",
    "        # append df to list of dfs\n",
    "        df_type[0].append(df)\n",
    "        # concat list of dfs\n",
    "        df_type[1] = pd.concat(df_type[0])\n",
    "\n",
    "    @staticmethod\n",
    "    def impute_df(file):\n",
    "        # import data with Windows encoding\n",
    "        try:\n",
    "            df = pd.read_csv(file, encoding='ANSI')\n",
    "        # if not Windows, do Mac encoding\n",
    "        except LookupError:\n",
    "            df = pd.read_csv(file, encoding='ISO-8859-1')\n",
    "        # if empty data, skip file\n",
    "        except pd.errors.EmptyDataError:\n",
    "            return\n",
    "        # set first row as headers\n",
    "        df.rename(columns=df.iloc[0])\n",
    "        return df\n",
    "\n",
    "    def season_csv_to_df(self, df_type, season):\n",
    "        file = \"../data/{i}/{j}_{i}.csv\".format(i=df_type, j=season)\n",
    "        df = self.impute_df(file)\n",
    "        if df_type == \"drives\":\n",
    "            self.append_dfs(df, self.drives)\n",
    "        elif df_type == \"games\":\n",
    "            self.append_dfs(df, self.games)\n",
    "        elif df_type == \"lines\":\n",
    "            self.append_dfs(df, self.lines)\n",
    "        elif df_type == \"player_season_stats\":\n",
    "            self.append_dfs(df, self.player_season_stats)\n",
    "        elif df_type == \"player_usage\":\n",
    "            self.append_dfs(df, self.player_usage)\n",
    "        elif df_type == \"recruiting_players\":\n",
    "            self.append_dfs(df, self.recruiting_players)\n",
    "    \n",
    "    def week_csv_to_df(self, df_type, game, season):\n",
    "        file = \"../data/{i}/{k}_week_{j}_{i}.csv\".format(i=df_type, j=game, k=season)\n",
    "        df = self.impute_df(file)\n",
    "        self.append_dfs(df, self.player_game_stats)\n",
    "        \n",
    "    def csv_to_df(self, df_type):\n",
    "        file = \"../data/{i}/{i}.csv\".format(i=df_type)\n",
    "        df = self.impute_df(file)\n",
    "        if df_type == \"recruiting_groups\":\n",
    "            self.append_dfs(df, self.recruiting_groups)\n",
    "        elif df_type == \"recruiting_teams\":\n",
    "            self.append_dfs(df, self.recruiting_teams)\n",
    "        elif df_type == \"venues\":\n",
    "            self.append_dfs(df, self.venues)"
   ],
   "metadata": {
    "collapsed": false,
    "pycharm": {
     "name": "#%%\n"
    }
   },
   "execution_count": 2,
   "outputs": []
  },
  {
   "cell_type": "markdown",
   "source": [
    "Build the CFB dataframe with the scraped game data"
   ],
   "metadata": {
    "collapsed": false,
    "pycharm": {
     "name": "#%% md\n"
    }
   }
  },
  {
   "cell_type": "code",
   "source": [
    "cfb_df = CFBDataframe()\n",
    "for directory in next(os.walk('../data'))[1]:\n",
    "    # non time specific dfs\n",
    "    if directory in [\"recruiting_groups\", \"recruiting_teams\", \"venues\"]:\n",
    "        try:\n",
    "            cfb_df.csv_to_df(directory)\n",
    "        except FileNotFoundError:\n",
    "            pass\n",
    "    else:\n",
    "        # season specific dfs\n",
    "        for year in range(2010, dt.today().year):\n",
    "            # week specific df\n",
    "            if directory == \"player_game_stats\":\n",
    "                for week in range(1, 17):\n",
    "                    try:\n",
    "                        cfb_df.week_csv_to_df(directory, week, year)\n",
    "                    except FileNotFoundError:\n",
    "                        pass\n",
    "            else:\n",
    "                try:\n",
    "                    cfb_df.season_csv_to_df(directory, year)\n",
    "                except FileNotFoundError:\n",
    "                    pass"
   ],
   "metadata": {
    "collapsed": false,
    "pycharm": {
     "name": "#%%\n"
    }
   },
   "execution_count": 3,
   "outputs": []
  },
  {
   "cell_type": "markdown",
   "source": [
    "Here, we initialize attributes and methods used to manipulate CFB Model"
   ],
   "metadata": {
    "collapsed": false,
    "pycharm": {
     "name": "#%% md\n"
    }
   }
  },
  {
   "cell_type": "code",
   "execution_count": 4,
   "outputs": [],
   "source": [
    "class CFBModel:\n",
    "    def __init__(self, df):\n",
    "        # dict of dfs\n",
    "        self.data = {\"drives\": df.drives[1], \"games\": df.games[1], \"lines\": df.lines[1],\n",
    "                     \"player_game_stats\": df.player_game_stats[1], \"player_season_stats\": df.player_season_stats[1],\n",
    "                     \"player_usage\": df.player_usage[1], \"recruiting_groups\": df.recruiting_groups[1],\n",
    "                     \"recruiting_players\": df.recruiting_players[1], \"recruiting_teams\": df.recruiting_teams[1],\n",
    "                     \"venues\": df.venues[1]}\n",
    "\n",
    "    def home_favored(self):\n",
    "        mean_home_points = pd.Series.mean(self.data[\"games\"][\"_home_points\"])\n",
    "        mean_away_points = pd.Series.mean(self.data[\"games\"][\"_away_points\"])\n",
    "        home_favored = mean_home_points - mean_away_points\n",
    "        return home_favored"
   ],
   "metadata": {
    "collapsed": false,
    "pycharm": {
     "name": "#%%\n"
    }
   }
  },
  {
   "cell_type": "markdown",
   "source": [
    "Create and perform operations on model"
   ],
   "metadata": {
    "collapsed": false
   }
  },
  {
   "cell_type": "code",
   "execution_count": 5,
   "outputs": [
    {
     "name": "stdout",
     "output_type": "stream",
     "text": [
      "Home teams win by an average of 7.18 points\n",
      "We have 12507246 cells of data to work with 👀\n"
     ]
    }
   ],
   "source": [
    "cfb_model = CFBModel(cfb_df)\n",
    "home_favor = cfb_model.home_favored()\n",
    "print(\"Home teams win by an average of {:.2f} points\".format(home_favor))\n",
    "num_cells = cfb_model.data['drives'].size + cfb_model.data['games'].size + cfb_model.data['lines'].size + \\\n",
    "            cfb_model.data['player_game_stats'].size + cfb_model.data['player_season_stats'].size + \\\n",
    "            cfb_model.data['player_usage'].size + cfb_model.data['recruiting_groups'].size + \\\n",
    "            cfb_model.data['recruiting_players'].size + cfb_model.data['recruiting_teams'].size + \\\n",
    "            cfb_model.data['venues'].size\n",
    "print(\"We have {} cells of data to work with 👀\".format(num_cells))"
   ],
   "metadata": {
    "collapsed": false,
    "pycharm": {
     "name": "#%%\n"
    }
   }
  }
 ],
 "metadata": {
  "kernelspec": {
   "display_name": "Python 3",
   "language": "python",
   "name": "python3"
  },
  "language_info": {
   "codemirror_mode": {
    "name": "ipython",
    "version": 2
   },
   "file_extension": ".py",
   "mimetype": "text/x-python",
   "name": "python",
   "nbconvert_exporter": "python",
   "pygments_lexer": "ipython2",
   "version": "2.7.6"
  },
  "pycharm": {
   "stem_cell": {
    "cell_type": "raw",
    "source": [
     "# CFB Ranking\n",
     "## The Code\n"
    ],
    "metadata": {
     "collapsed": false
    }
   }
  }
 },
 "nbformat": 4,
 "nbformat_minor": 0
}