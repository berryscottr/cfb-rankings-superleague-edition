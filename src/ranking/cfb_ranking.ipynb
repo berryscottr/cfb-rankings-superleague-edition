{
 "cells": [
  {
   "cell_type": "markdown",
   "source": [
    "Import requirements"
   ],
   "metadata": {
    "collapsed": true,
    "pycharm": {
     "name": "#%% md\n"
    }
   }
  },
  {
   "cell_type": "code",
   "execution_count": 1,
   "source": [
    "import os\n",
    "import pandas as pd\n",
    "from datetime import datetime as dt\n",
    "import unittest\n",
    "\n",
    "pd.options.mode.chained_assignment = None"
   ],
   "outputs": [],
   "metadata": {
    "collapsed": false,
    "pycharm": {
     "name": "#%%\n"
    }
   }
  },
  {
   "cell_type": "markdown",
   "source": [
    "Here, we create the CFB Model Dataframes"
   ],
   "metadata": {
    "collapsed": false,
    "pycharm": {
     "name": "#%% md\n"
    }
   }
  },
  {
   "cell_type": "code",
   "execution_count": 2,
   "source": [
    "from CFBDataframe import CFBDataframe"
   ],
   "outputs": [],
   "metadata": {
    "collapsed": false,
    "pycharm": {
     "name": "#%%\n"
    }
   }
  },
  {
   "cell_type": "markdown",
   "source": [
    "Build the CFB dataframe with the scraped game data"
   ],
   "metadata": {
    "collapsed": false,
    "pycharm": {
     "name": "#%% md\n"
    }
   }
  },
  {
   "cell_type": "code",
   "execution_count": 3,
   "source": [
    "cfb_df = CFBDataframe()\r\n",
    "for directory in next(os.walk('../data'))[1]:\r\n",
    "    # non time specific dfs\r\n",
    "    if directory in [\"recruiting_groups\", \"recruiting_teams\", \"venues\"]:\r\n",
    "        try:\r\n",
    "            cfb_df.csv_to_df([directory])\r\n",
    "        except FileNotFoundError:\r\n",
    "            print(\"Missing data from\", directory)\r\n",
    "    else:\r\n",
    "        # season specific dfs\r\n",
    "        for year in range(2010, dt.today().year):\r\n",
    "            # week specific df\r\n",
    "            if directory == \"player_game_stats\":\r\n",
    "                for week in range(1, 17):\r\n",
    "                    try:\r\n",
    "                        cfb_df.csv_to_df([directory, week, year])\r\n",
    "                    except FileNotFoundError:\r\n",
    "                        print(\"Missing game data for\", year, \"week\", week)\r\n",
    "            elif directory == \"__pycache__\":\r\n",
    "                continue\r\n",
    "            else:\r\n",
    "                try:\r\n",
    "                    cfb_df.csv_to_df([directory, year])\r\n",
    "                except FileNotFoundError:\r\n",
    "                    print(\"Missing\", year, \"data for\", directory)"
   ],
   "outputs": [
    {
     "name": "stdout",
     "output_type": "stream",
     "text": [
      "Missing game data for 2010 week 16\n",
      "Missing game data for 2011 week 16\n",
      "Missing game data for 2012 week 16\n",
      "Missing game data for 2015 week 16\n",
      "Missing game data for 2016 week 16\n",
      "Missing game data for 2017 week 16\n",
      "Missing game data for 2018 week 16\n",
      "Missing game data for 2019 week 16\n",
      "Missing 2010 data for player_usage\n",
      "Missing 2011 data for player_usage\n",
      "Missing 2012 data for player_usage\n",
      "Missing 2010 data for lines\n",
      "Missing 2011 data for lines\n",
      "Missing 2012 data for lines\n"
     ]
    }
   ],
   "metadata": {
    "collapsed": false,
    "pycharm": {
     "name": "#%%\n"
    }
   }
  },
  {
   "cell_type": "markdown",
   "source": [
    "Here, we initialize attributes and methods used to manipulate CFB Model"
   ],
   "metadata": {
    "collapsed": false,
    "pycharm": {
     "name": "#%% md\n"
    }
   }
  },
  {
   "cell_type": "code",
   "execution_count": 4,
   "source": [
    "from CFBModel import CFBModel"
   ],
   "outputs": [],
   "metadata": {
    "collapsed": false,
    "pycharm": {
     "name": "#%%\n"
    }
   }
  },
  {
   "cell_type": "markdown",
   "source": [
    "Create and perform operations on model"
   ],
   "metadata": {
    "collapsed": false
   }
  },
  {
   "cell_type": "code",
   "execution_count": 5,
   "source": [
    "cfb_model = CFBModel(cfb_df.data_map)\r\n",
    "home_favor = cfb_model.home_favored()\r\n",
    "print(\"Home teams win by an average of {:.2f} points\".format(home_favor))\r\n",
    "num_cells = sum(cfb_model.data[k].size for k in cfb_model.data)\r\n",
    "print(\"We have {} cells of data to work with 👀\".format(num_cells))\r\n",
    "# print(\"Prediction\", cfb_model.regression_predict([0.77, 34]))"
   ],
   "outputs": [
    {
     "name": "stdout",
     "output_type": "stream",
     "text": [
      "Home teams win by an average of 7.18 points\n",
      "We have 12507246 cells of data to work with 👀\n"
     ]
    }
   ],
   "metadata": {
    "collapsed": false,
    "pycharm": {
     "name": "#%%\n"
    }
   }
  },
  {
   "cell_type": "code",
   "execution_count": 6,
   "source": [
    "spread_regression_model = CFBModel(cfb_df.data_map)\r\n",
    "spread_model_score = spread_regression_model.spread_prediction()\r\n",
    "print(spread_model_score)"
   ],
   "outputs": [
    {
     "name": "stdout",
     "output_type": "stream",
     "text": [
      "0.130461561397191\n"
     ]
    }
   ],
   "metadata": {}
  },
  {
   "cell_type": "markdown",
   "source": [
    "Unit testing"
   ],
   "metadata": {
    "collapsed": false,
    "pycharm": {
     "name": "#%% md\n"
    }
   }
  },
  {
   "cell_type": "code",
   "execution_count": 7,
   "source": [
    "class TestRanking(unittest.TestCase):\r\n",
    "\r\n",
    "    def test_dfs(self):\r\n",
    "        self.assertGreater(num_cells, 0)\r\n",
    "        self.assertEqual(type(cfb_model.data), dict)\r\n",
    "        self.assertEqual(len(cfb_model.data), 10)\r\n",
    "\r\n",
    "\r\n",
    "unittest.main(argv=[''], verbosity=0, exit=False)"
   ],
   "outputs": [
    {
     "name": "stderr",
     "output_type": "stream",
     "text": [
      "----------------------------------------------------------------------\n",
      "Ran 1 test in 0.000s\n",
      "\n",
      "OK\n"
     ]
    },
    {
     "data": {
      "text/plain": "<unittest.main.TestProgram at 0x133fa7160>"
     },
     "execution_count": 7,
     "metadata": {},
     "output_type": "execute_result"
    }
   ],
   "metadata": {
    "collapsed": false,
    "pycharm": {
     "name": "#%%\n"
    }
   }
  }
 ],
 "metadata": {
  "kernelspec": {
   "name": "python3",
   "language": "python",
   "display_name": "Python 3"
  },
  "language_info": {
   "name": "python",
   "version": "3.9.1",
   "mimetype": "text/x-python",
   "codemirror_mode": {
    "name": "ipython",
    "version": 3
   },
   "pygments_lexer": "ipython3",
   "nbconvert_exporter": "python",
   "file_extension": ".py"
  },
  "pycharm": {
   "stem_cell": {
    "cell_type": "raw",
    "source": [
     "# CFB Ranking\n",
     "## The Code\n"
    ],
    "metadata": {
     "collapsed": false
    }
   }
  },
  "interpreter": {
   "hash": "ac59ebe37160ed0dfa835113d9b8498d9f09ceb179beaac4002f036b9467c963"
  }
 },
 "nbformat": 4,
 "nbformat_minor": 2
}