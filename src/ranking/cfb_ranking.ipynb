{
 "cells": [
  {
   "cell_type": "markdown",
   "source": [
    "Import requirements"
   ],
   "metadata": {
    "collapsed": true,
    "pycharm": {
     "name": "#%% md\n"
    }
   }
  },
  {
   "cell_type": "code",
   "execution_count": 5,
   "source": [
    "import os\r\n",
    "import pandas as pd\r\n",
    "from datetime import datetime as dt\r\n",
    "import unittest\r\n",
    "\r\n",
    "# pd.options.mode.chained_assignment = None"
   ],
   "outputs": [],
   "metadata": {
    "collapsed": false,
    "pycharm": {
     "name": "#%%\n"
    }
   }
  },
  {
   "cell_type": "markdown",
   "source": [
    "Here, we create the CFB Model Dataframes"
   ],
   "metadata": {
    "collapsed": false,
    "pycharm": {
     "name": "#%% md\n"
    }
   }
  },
  {
   "cell_type": "code",
   "execution_count": 6,
   "source": [
    "from CFBDataframe import CFBDataframe"
   ],
   "outputs": [],
   "metadata": {
    "collapsed": false,
    "pycharm": {
     "name": "#%%\n"
    }
   }
  },
  {
   "cell_type": "markdown",
   "source": [
    "Build the CFB dataframe with the scraped game data"
   ],
   "metadata": {
    "collapsed": false,
    "pycharm": {
     "name": "#%% md\n"
    }
   }
  },
  {
   "cell_type": "code",
   "execution_count": 7,
   "source": [
    "cfb_df = CFBDataframe()\r\n",
    "for directory in next(os.walk('../data'))[1]:\r\n",
    "    # non time specific dfs\r\n",
    "    if directory in [\"cleaned_games\",\"recruiting_groups\", \"recruiting_teams\", \"venues\"]:\r\n",
    "        try:\r\n",
    "            cfb_df.csv_to_df([directory])\r\n",
    "        except FileNotFoundError:\r\n",
    "            print(\"Missing data from\", directory)\r\n",
    "    else:\r\n",
    "        # season specific dfs\r\n",
    "        for year in range(2010, dt.today().year):\r\n",
    "            # week specific df\r\n",
    "            if directory == \"player_game_stats\":\r\n",
    "                for week in range(1, 17):\r\n",
    "                    try:\r\n",
    "                        cfb_df.csv_to_df([directory, week, year])\r\n",
    "                    except FileNotFoundError:\r\n",
    "                        print(\"Missing game data for\", year, \"week\", week)\r\n",
    "            elif directory == \"__pycache__\":\r\n",
    "                continue\r\n",
    "            else:\r\n",
    "                try:\r\n",
    "                    cfb_df.csv_to_df([directory, year])\r\n",
    "                except FileNotFoundError:\r\n",
    "                    print(\"Missing\", year, \"data for\", directory)"
   ],
   "outputs": [
    {
     "output_type": "stream",
     "name": "stdout",
     "text": [
      "Missing 2010 data for lines\n",
      "Missing 2011 data for lines\n",
      "Missing 2012 data for lines\n",
      "Missing game data for 2010 week 16\n",
      "Missing game data for 2011 week 16\n",
      "Missing game data for 2012 week 16\n",
      "Missing game data for 2015 week 16\n",
      "Missing game data for 2016 week 16\n",
      "Missing game data for 2017 week 16\n",
      "Missing game data for 2018 week 16\n",
      "Missing game data for 2019 week 16\n",
      "Missing 2010 data for player_usage\n",
      "Missing 2011 data for player_usage\n",
      "Missing 2012 data for player_usage\n"
     ]
    }
   ],
   "metadata": {
    "collapsed": false,
    "pycharm": {
     "name": "#%%\n"
    }
   }
  },
  {
   "cell_type": "markdown",
   "source": [
    "Here, we initialize attributes and methods used to manipulate CFB Model"
   ],
   "metadata": {
    "collapsed": false,
    "pycharm": {
     "name": "#%% md\n"
    }
   }
  },
  {
   "cell_type": "code",
   "execution_count": 8,
   "source": [
    "from CFBModel import CFBModel"
   ],
   "outputs": [
    {
     "output_type": "error",
     "ename": "ModuleNotFoundError",
     "evalue": "No module named 'sklearn'",
     "traceback": [
      "\u001b[1;31m---------------------------------------------------------------------------\u001b[0m",
      "\u001b[1;31mModuleNotFoundError\u001b[0m                       Traceback (most recent call last)",
      "\u001b[1;32m<ipython-input-8-4bdef8d41371>\u001b[0m in \u001b[0;36m<module>\u001b[1;34m\u001b[0m\n\u001b[1;32m----> 1\u001b[1;33m \u001b[1;32mfrom\u001b[0m \u001b[0mCFBModel\u001b[0m \u001b[1;32mimport\u001b[0m \u001b[0mCFBModel\u001b[0m\u001b[1;33m\u001b[0m\u001b[1;33m\u001b[0m\u001b[0m\n\u001b[0m",
      "\u001b[1;32mc:\\Users\\WillMItchell\\OneDrive - CANIDIUM\\Documents\\Coding Projects\\cfb-rankings-superleague-edition\\src\\ranking\\CFBModel.py\u001b[0m in \u001b[0;36m<module>\u001b[1;34m\u001b[0m\n\u001b[0;32m      1\u001b[0m \u001b[1;32mimport\u001b[0m \u001b[0mpandas\u001b[0m \u001b[1;32mas\u001b[0m \u001b[0mpd\u001b[0m\u001b[1;33m\u001b[0m\u001b[1;33m\u001b[0m\u001b[0m\n\u001b[1;32m----> 2\u001b[1;33m \u001b[1;32mfrom\u001b[0m \u001b[0msklearn\u001b[0m\u001b[1;33m.\u001b[0m\u001b[0mlinear_model\u001b[0m \u001b[1;32mimport\u001b[0m \u001b[0mLinearRegression\u001b[0m\u001b[1;33m\u001b[0m\u001b[1;33m\u001b[0m\u001b[0m\n\u001b[0m\u001b[0;32m      3\u001b[0m \u001b[1;32mfrom\u001b[0m \u001b[0msklearn\u001b[0m\u001b[1;33m.\u001b[0m\u001b[0mpreprocessing\u001b[0m \u001b[1;32mimport\u001b[0m \u001b[0mLabelEncoder\u001b[0m\u001b[1;33m\u001b[0m\u001b[1;33m\u001b[0m\u001b[0m\n\u001b[0;32m      4\u001b[0m \u001b[1;32mfrom\u001b[0m \u001b[0msklearn\u001b[0m\u001b[1;33m.\u001b[0m\u001b[0mmodel_selection\u001b[0m \u001b[1;32mimport\u001b[0m \u001b[0mtrain_test_split\u001b[0m\u001b[1;33m\u001b[0m\u001b[1;33m\u001b[0m\u001b[0m\n\u001b[0;32m      5\u001b[0m \u001b[1;33m\u001b[0m\u001b[0m\n",
      "\u001b[1;31mModuleNotFoundError\u001b[0m: No module named 'sklearn'"
     ]
    }
   ],
   "metadata": {
    "collapsed": false,
    "pycharm": {
     "name": "#%%\n"
    }
   }
  },
  {
   "cell_type": "markdown",
   "source": [
    "Create and perform operations on model"
   ],
   "metadata": {
    "collapsed": false
   }
  },
  {
   "cell_type": "code",
   "execution_count": null,
   "source": [
    "cfb_model = CFBModel(cfb_df.data_map)\r\n",
    "home_favor = cfb_model.home_favored()\r\n",
    "print(\"Home teams win by an average of {:.2f} points\".format(home_favor))\r\n",
    "num_cells = sum(cfb_model.data[k].size for k in cfb_model.data)\r\n",
    "print(\"We have {} cells of data to work with 👀\".format(num_cells))\r\n",
    "# print(\"Prediction\", cfb_model.regression_predict([0.77, 34]))"
   ],
   "outputs": [],
   "metadata": {
    "collapsed": false,
    "pycharm": {
     "name": "#%%\n"
    }
   }
  },
  {
   "cell_type": "code",
   "execution_count": null,
   "source": [
    "spread_regression_model = CFBModel(cfb_df.data_map)\r\n",
    "spread_model_score = spread_regression_model.spread_prediction()\r\n",
    "print(spread_model_score)"
   ],
   "outputs": [],
   "metadata": {}
  },
  {
   "cell_type": "markdown",
   "source": [
    "Unit testing"
   ],
   "metadata": {
    "collapsed": false,
    "pycharm": {
     "name": "#%% md\n"
    }
   }
  },
  {
   "cell_type": "code",
   "execution_count": null,
   "source": [
    "class TestRanking(unittest.TestCase):\r\n",
    "\r\n",
    "    def test_dfs(self):\r\n",
    "        self.assertGreater(num_cells, 0)\r\n",
    "        self.assertEqual(type(cfb_model.data), dict)\r\n",
    "        self.assertEqual(len(cfb_model.data), 10)\r\n",
    "\r\n",
    "\r\n",
    "unittest.main(argv=[''], verbosity=0, exit=False)"
   ],
   "outputs": [],
   "metadata": {
    "collapsed": false,
    "pycharm": {
     "name": "#%%\n"
    }
   }
  }
 ],
 "metadata": {
  "kernelspec": {
   "name": "python3",
   "display_name": "Python 3.9.5 64-bit"
  },
  "language_info": {
   "name": "python",
   "version": "3.9.5",
   "mimetype": "text/x-python",
   "codemirror_mode": {
    "name": "ipython",
    "version": 3
   },
   "pygments_lexer": "ipython3",
   "nbconvert_exporter": "python",
   "file_extension": ".py"
  },
  "pycharm": {
   "stem_cell": {
    "cell_type": "raw",
    "source": [
     "# CFB Ranking\n",
     "## The Code\n"
    ],
    "metadata": {
     "collapsed": false
    }
   }
  },
  "interpreter": {
   "hash": "63fd5069d213b44bf678585dea6b12cceca9941eaf7f819626cde1f2670de90d"
  }
 },
 "nbformat": 4,
 "nbformat_minor": 2
}