{
 "cells": [
  {
   "cell_type": "markdown",
   "source": [
    "Import requirements"
   ],
   "metadata": {
    "collapsed": true,
    "pycharm": {
     "name": "#%% md\n"
    }
   }
  },
  {
   "cell_type": "code",
   "execution_count": 35,
   "source": [
    "import os\n",
    "import pandas as pd\n",
    "from datetime import datetime as dt\n",
    "from sklearn.linear_model import LinearRegression\n",
    "import unittest"
   ],
   "outputs": [],
   "metadata": {
    "collapsed": false,
    "pycharm": {
     "name": "#%%\n"
    }
   }
  },
  {
   "cell_type": "markdown",
   "source": [
    "Here, we create the CFB Model Dataframes"
   ],
   "metadata": {
    "collapsed": false,
    "pycharm": {
     "name": "#%% md\n"
    }
   }
  },
  {
   "cell_type": "code",
   "execution_count": 36,
   "source": [
    "class CFBDataframe:\n",
    "    def __init__(self):\n",
    "        # list of dfs values[0] and empty init df values[1]\n",
    "        self.data_map = {\"drives\": [[], pd.DataFrame()], \"games\": [[], pd.DataFrame()], \"lines\": [[], pd.DataFrame()],\n",
    "                         \"player_game_stats\": [[], pd.DataFrame()], \"player_season_stats\": [[], pd.DataFrame()],\n",
    "                         \"player_usage\": [[], pd.DataFrame()], \"recruiting_groups\": [[], pd.DataFrame()],\n",
    "                         \"recruiting_players\": [[], pd.DataFrame()], \"recruiting_teams\": [[], pd.DataFrame()],\n",
    "                         \"venues\": [[], pd.DataFrame()]}\n",
    "\n",
    "    @staticmethod\n",
    "    def append_dfs(df, df_type):\n",
    "        # append df to list of dfs\n",
    "        df_type[0].append(df)\n",
    "        # concat list of dfs\n",
    "        df_type[1] = pd.concat(df_type[0])\n",
    "\n",
    "    @staticmethod\n",
    "    def impute_df(file):\n",
    "        # import data with Windows encoding\n",
    "        try:\n",
    "            df = pd.read_csv(file, encoding='ANSI')  # , na_values='?')\n",
    "            # df.fillna(pd.Series.mean(df))\n",
    "        # if not Windows, do Mac encoding\n",
    "        except LookupError:\n",
    "            try:\n",
    "                df = pd.read_csv(file, encoding='ISO-8859-1')  # , na_values='?')\n",
    "                # df.fillna(pd.Series.mean(df))\n",
    "            except pd.errors.EmptyDataError:\n",
    "                print(file, \"is empty\")\n",
    "                return\n",
    "        # if empty data, skip file\n",
    "        except pd.errors.EmptyDataError:\n",
    "            print(file, \"is empty\")\n",
    "            return\n",
    "        # set first row as headers\n",
    "        df.rename(columns=df.iloc[0])\n",
    "        return df\n",
    "\n",
    "    def csv_to_df(self, args):\n",
    "        # not time based\n",
    "        if len(args) == 1:\n",
    "            file = \"../data/{i}/{i}.csv\".format(i=args[0])\n",
    "        # season based\n",
    "        elif len(args) == 2:\n",
    "            file = \"../data/{i}/{j}_{i}.csv\".format(i=args[0], j=args[1])\n",
    "        # game based\n",
    "        else:\n",
    "            file = \"../data/{i}/{k}_week_{j}_{i}.csv\".format(i=args[0], j=args[1], k=args[2])\n",
    "        # import csv to df\n",
    "        df = self.impute_df(file)\n",
    "        # append non-empty dfs\n",
    "        if type(df) is not None:\n",
    "            self.append_dfs(df, self.data_map[args[0]])"
   ],
   "outputs": [],
   "metadata": {
    "collapsed": false,
    "pycharm": {
     "name": "#%%\n"
    }
   }
  },
  {
   "cell_type": "markdown",
   "source": [
    "Build the CFB dataframe with the scraped game data"
   ],
   "metadata": {
    "collapsed": false,
    "pycharm": {
     "name": "#%% md\n"
    }
   }
  },
  {
   "cell_type": "code",
   "execution_count": 37,
   "source": [
    "cfb_df = CFBDataframe()\n",
    "for directory in next(os.walk('../data'))[1]:\n",
    "    # non time specific dfs\n",
    "    if directory in [\"recruiting_groups\", \"recruiting_teams\", \"venues\"]:\n",
    "        try:\n",
    "            cfb_df.csv_to_df([directory])\n",
    "        except FileNotFoundError:\n",
    "            print(\"Missing data from\", directory)\n",
    "    else:\n",
    "        # season specific dfs\n",
    "        for year in range(2010, dt.today().year):\n",
    "            # week specific df\n",
    "            if directory == \"player_game_stats\":\n",
    "                for week in range(1, 17):\n",
    "                    try:\n",
    "                        cfb_df.csv_to_df([directory, week, year])\n",
    "                    except FileNotFoundError:\n",
    "                        print(\"Missing game data for\", year, \"week\", week)\n",
    "            elif directory == \"__pycache__\":\n",
    "                continue\n",
    "            else:\n",
    "                try:\n",
    "                    cfb_df.csv_to_df([directory, year])\n",
    "                except FileNotFoundError:\n",
    "                    print(\"Missing\", year, \"data for\", directory)"
   ],
   "outputs": [
    {
     "name": "stdout",
     "output_type": "stream",
     "text": [
      "Missing game data for 2010 week 16\n",
      "Missing game data for 2011 week 16\n",
      "Missing game data for 2012 week 16\n",
      "Missing game data for 2015 week 16\n",
      "Missing game data for 2016 week 16\n",
      "Missing game data for 2017 week 16\n",
      "Missing game data for 2018 week 16\n",
      "Missing game data for 2019 week 16\n",
      "Missing 2010 data for player_usage\n",
      "Missing 2011 data for player_usage\n",
      "Missing 2012 data for player_usage\n",
      "Missing 2010 data for lines\n",
      "Missing 2011 data for lines\n",
      "Missing 2012 data for lines\n"
     ]
    }
   ],
   "metadata": {
    "collapsed": false,
    "pycharm": {
     "name": "#%%\n"
    }
   }
  },
  {
   "cell_type": "markdown",
   "source": [
    "Here, we initialize attributes and methods used to manipulate CFB Model"
   ],
   "metadata": {
    "collapsed": false,
    "pycharm": {
     "name": "#%% md\n"
    }
   }
  },
  {
   "cell_type": "code",
   "execution_count": 38,
   "source": [
    "class CFBModel:\n",
    "    def __init__(self, df):\n",
    "        # dict of dfs\n",
    "        self.data = {k: df[k][1] for k in df}\n",
    "\n",
    "    def home_favored(self):\n",
    "        mean_home_points = pd.Series.mean(self.data[\"games\"][\"_home_points\"])\n",
    "        mean_away_points = pd.Series.mean(self.data[\"games\"][\"_away_points\"])\n",
    "        return mean_home_points - mean_away_points\n",
    "\n",
    "    def regression_predict(self, predictors):\n",
    "        regression_model = LinearRegression()\n",
    "        indep_vars = [self.data['games']['_home_post_win_prob'], self.data['games']['_home_points']]\n",
    "        dep_vars = self.data['games']['_home_points'] - self.data['games']['_away_points']\n",
    "        regression_model.fit(indep_vars, dep_vars)\n",
    "        prediction = regression_model.predict(predictors)\n",
    "        return prediction"
   ],
   "outputs": [],
   "metadata": {
    "collapsed": false,
    "pycharm": {
     "name": "#%%\n"
    }
   }
  },
  {
   "cell_type": "markdown",
   "source": [
    "Create and perform operations on model"
   ],
   "metadata": {
    "collapsed": false
   }
  },
  {
   "cell_type": "code",
   "execution_count": 39,
   "source": [
    "cfb_model = CFBModel(cfb_df.data_map)\n",
    "home_favor = cfb_model.home_favored()\n",
    "print(\"Home teams win by an average of {:.2f} points\".format(home_favor))\n",
    "num_cells = sum(cfb_model.data[k].size for k in cfb_model.data)\n",
    "print(\"We have {} cells of data to work with 👀\".format(num_cells))\n",
    "# print(\"Prediction\", cfb_model.regression_predict([0.77, 34]))"
   ],
   "outputs": [
    {
     "name": "stdout",
     "output_type": "stream",
     "text": [
      "Home teams win by an average of 7.18 points\n",
      "We have 12507246 cells of data to work with 👀\n"
     ]
    }
   ],
   "metadata": {
    "collapsed": false,
    "pycharm": {
     "name": "#%%\n"
    }
   }
  },
  {
   "cell_type": "markdown",
   "source": [
    "Unit testing"
   ],
   "metadata": {
    "collapsed": false,
    "pycharm": {
     "name": "#%% md\n"
    }
   }
  },
  {
   "cell_type": "code",
   "execution_count": 40,
   "source": [
    "class TestRanking(unittest.TestCase):\n",
    "\n",
    "    def test_dfs(self):\n",
    "        self.assertGreater(num_cells, 0)\n",
    "        self.assertEqual(type(cfb_model.data), dict)\n",
    "        self.assertEqual(len(cfb_model.data), 10)\n",
    "\n",
    "\n",
    "unittest.main(argv=[''], verbosity=0, exit=False)"
   ],
   "outputs": [
    {
     "name": "stderr",
     "output_type": "stream",
     "text": [
      "----------------------------------------------------------------------\n",
      "Ran 1 test in 0.000s\n",
      "\n",
      "OK\n"
     ]
    },
    {
     "data": {
      "text/plain": "<unittest.main.TestProgram at 0x1429ad490>"
     },
     "execution_count": 40,
     "metadata": {},
     "output_type": "execute_result"
    }
   ],
   "metadata": {
    "collapsed": false,
    "pycharm": {
     "name": "#%%\n"
    }
   }
  }
 ],
 "metadata": {
  "kernelspec": {
   "name": "python3",
   "language": "python",
   "display_name": "Python 3"
  },
  "language_info": {
   "name": "python",
   "version": "3.9.1",
   "mimetype": "text/x-python",
   "codemirror_mode": {
    "name": "ipython",
    "version": 3
   },
   "pygments_lexer": "ipython3",
   "nbconvert_exporter": "python",
   "file_extension": ".py"
  },
  "pycharm": {
   "stem_cell": {
    "cell_type": "raw",
    "source": [
     "# CFB Ranking\n",
     "## The Code\n"
    ],
    "metadata": {
     "collapsed": false
    }
   }
  },
  "interpreter": {
   "hash": "ac59ebe37160ed0dfa835113d9b8498d9f09ceb179beaac4002f036b9467c963"
  }
 },
 "nbformat": 4,
 "nbformat_minor": 2
}