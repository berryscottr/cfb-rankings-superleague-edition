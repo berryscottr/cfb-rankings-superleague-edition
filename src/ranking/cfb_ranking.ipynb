{
 "cells": [
  {
   "cell_type": "markdown",
   "source": [
    "Import requirements"
   ],
   "metadata": {
    "collapsed": true,
    "pycharm": {
     "name": "#%% md\n"
    }
   }
  },
  {
   "cell_type": "code",
   "execution_count": 4,
   "source": [
    "import os\r\n",
    "import pandas as pd\r\n",
    "from datetime import datetime as dt\r\n",
    "import unittest\r\n",
    "\r\n",
    "# pd.options.mode.chained_assignment = None\r\n",
    "pd.options.display.width=0\r\n",
    "pd.set_option('display.expand_frame_repr', False)"
   ],
   "outputs": [],
   "metadata": {
    "collapsed": false,
    "pycharm": {
     "name": "#%%\n"
    }
   }
  },
  {
   "cell_type": "markdown",
   "source": [
    "Here, we create the CFB Model Dataframes"
   ],
   "metadata": {
    "collapsed": false,
    "pycharm": {
     "name": "#%% md\n"
    }
   }
  },
  {
   "cell_type": "code",
   "execution_count": 5,
   "source": [
    "from CFBDataframe import CFBDataframe"
   ],
   "outputs": [],
   "metadata": {
    "collapsed": false,
    "pycharm": {
     "name": "#%%\n"
    }
   }
  },
  {
   "cell_type": "markdown",
   "source": [
    "Build the CFB dataframe with the scraped game data"
   ],
   "metadata": {
    "collapsed": false,
    "pycharm": {
     "name": "#%% md\n"
    }
   }
  },
  {
   "cell_type": "code",
   "execution_count": 6,
   "source": [
    "cfb_df = CFBDataframe()\r\n",
    "for directory in next(os.walk('../data'))[1]:\r\n",
    "    # non time specific dfs\r\n",
    "    if directory in [\"cleaned_games\",\"recruiting_groups\", \"recruiting_teams\", \"venues\"]:\r\n",
    "        try:\r\n",
    "            cfb_df.csv_to_df([directory])\r\n",
    "        except FileNotFoundError:\r\n",
    "            print(\"Missing data from\", directory)\r\n",
    "    else:\r\n",
    "        # season specific dfs\r\n",
    "        for year in range(2010, dt.today().year):\r\n",
    "            # week specific df\r\n",
    "            if directory == \"player_game_stats\":\r\n",
    "                for week in range(1, 17):\r\n",
    "                    try:\r\n",
    "                        cfb_df.csv_to_df([directory, week, year])\r\n",
    "                    except FileNotFoundError:\r\n",
    "                        print(\"Missing game data for\", year, \"week\", week)\r\n",
    "            elif directory == \"__pycache__\":\r\n",
    "                continue\r\n",
    "            else:\r\n",
    "                try:\r\n",
    "                    cfb_df.csv_to_df([directory, year])\r\n",
    "                except FileNotFoundError:\r\n",
    "                    print(\"Missing\", year, \"data for\", directory)"
   ],
   "outputs": [],
   "metadata": {
    "collapsed": false,
    "pycharm": {
     "name": "#%%\n"
    }
   }
  },
  {
   "cell_type": "markdown",
   "source": [
    "Here, we initialize attributes and methods used to manipulate CFB Model"
   ],
   "metadata": {
    "collapsed": false,
    "pycharm": {
     "name": "#%% md\n"
    }
   }
  },
  {
   "cell_type": "code",
   "execution_count": 7,
   "source": [
    "from CFBModel import CFBModel"
   ],
   "outputs": [],
   "metadata": {
    "collapsed": false,
    "pycharm": {
     "name": "#%%\n"
    }
   }
  },
  {
   "cell_type": "markdown",
   "source": [
    "Create and perform operations on model"
   ],
   "metadata": {
    "collapsed": false
   }
  },
  {
   "cell_type": "code",
   "execution_count": 8,
   "source": [
    "cfb_model = CFBModel(cfb_df.data_map)\r\n",
    "home_favor = cfb_model.home_favored()\r\n",
    "print(\"Home teams win by an average of {:.2f} points\".format(home_favor))\r\n",
    "num_cells = sum(cfb_model.data[k].size for k in cfb_model.data)\r\n",
    "print(\"We have {} cells of data to work with 👀\".format(num_cells))\r\n",
    "# print(\"Prediction\", cfb_model.regression_predict([0.77, 34]))"
   ],
   "outputs": [],
   "metadata": {
    "collapsed": false,
    "pycharm": {
     "name": "#%%\n"
    }
   }
  },
  {
   "cell_type": "code",
   "execution_count": 9,
   "source": [
    "spread_regression_model = CFBModel(cfb_df.data_map)"
   ],
   "outputs": [],
   "metadata": {}
  },
  {
   "cell_type": "code",
   "execution_count": 10,
   "source": [
    "spread_model_score = spread_regression_model.spread_prediction()\r\n",
    "print(spread_model_score)"
   ],
   "outputs": [
    {
     "output_type": "stream",
     "name": "stdout",
     "text": [
      "[15:04:11] WARNING: C:/Users/Administrator/workspace/xgboost-win64_release_1.4.0/src/objective/regression_obj.cu:171: reg:linear is now deprecated in favor of reg:squarederror.\n",
      "0.24035397058506502\n"
     ]
    }
   ],
   "metadata": {}
  },
  {
   "cell_type": "markdown",
   "source": [
    "Unit testing"
   ],
   "metadata": {
    "collapsed": false,
    "pycharm": {
     "name": "#%% md\n"
    }
   }
  },
  {
   "cell_type": "code",
   "execution_count": 11,
   "source": [
    "class TestRanking(unittest.TestCase):\r\n",
    "\r\n",
    "    def test_dfs(self):\r\n",
    "        self.assertGreater(num_cells, 0)\r\n",
    "        self.assertEqual(type(cfb_model.data), dict)\r\n",
    "        self.assertEqual(len(cfb_model.data), 10)\r\n",
    "\r\n",
    "\r\n",
    "unittest.main(argv=[''], verbosity=0, exit=False)"
   ],
   "outputs": [
    {
     "output_type": "stream",
     "name": "stderr",
     "text": [
      "======================================================================\n",
      "ERROR: test_dfs (__main__.TestRanking)\n",
      "----------------------------------------------------------------------\n",
      "Traceback (most recent call last):\n",
      "  File \"<ipython-input-11-c78273acaa5d>\", line 4, in test_dfs\n",
      "    self.assertGreater(num_cells, 0)\n",
      "NameError: name 'num_cells' is not defined\n",
      "\n",
      "----------------------------------------------------------------------\n",
      "Ran 1 test in 0.000s\n",
      "\n",
      "FAILED (errors=1)\n"
     ]
    },
    {
     "output_type": "execute_result",
     "data": {
      "text/plain": [
       "<unittest.main.TestProgram at 0x10fb22eae80>"
      ]
     },
     "metadata": {},
     "execution_count": 11
    }
   ],
   "metadata": {
    "collapsed": false,
    "pycharm": {
     "name": "#%%\n"
    }
   }
  }
 ],
 "metadata": {
  "kernelspec": {
   "name": "python3",
   "display_name": "Python 3.9.5 64-bit"
  },
  "language_info": {
   "name": "python",
   "version": "3.9.5",
   "mimetype": "text/x-python",
   "codemirror_mode": {
    "name": "ipython",
    "version": 3
   },
   "pygments_lexer": "ipython3",
   "nbconvert_exporter": "python",
   "file_extension": ".py"
  },
  "pycharm": {
   "stem_cell": {
    "cell_type": "raw",
    "source": [
     "# CFB Ranking\n",
     "## The Code\n"
    ],
    "metadata": {
     "collapsed": false
    }
   }
  },
  "interpreter": {
   "hash": "63fd5069d213b44bf678585dea6b12cceca9941eaf7f819626cde1f2670de90d"
  }
 },
 "nbformat": 4,
 "nbformat_minor": 2
}