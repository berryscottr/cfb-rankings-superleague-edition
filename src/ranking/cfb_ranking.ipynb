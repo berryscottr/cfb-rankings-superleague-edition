{
 "cells": [
  {
   "cell_type": "markdown",
   "source": [
    "Import requirements"
   ],
   "metadata": {
    "collapsed": true,
    "pycharm": {
     "name": "#%% md\n"
    }
   }
  },
  {
   "cell_type": "code",
   "execution_count": 1,
   "source": [
    "import os\r\n",
    "import pandas as pd\r\n",
    "from datetime import datetime as dt\r\n",
    "from sklearn.linear_model import LinearRegression\r\n",
    "import unittest"
   ],
   "outputs": [],
   "metadata": {
    "collapsed": false,
    "pycharm": {
     "name": "#%%\n"
    }
   }
  },
  {
   "cell_type": "markdown",
   "source": [
    "Here, we create the CFB Model Dataframes"
   ],
   "metadata": {
    "collapsed": false,
    "pycharm": {
     "name": "#%% md\n"
    }
   }
  },
  {
   "cell_type": "code",
   "execution_count": 2,
   "source": [
    "class CFBDataframe:\r\n",
    "    def __init__(self):\r\n",
    "        # list of dfs and empty init df\r\n",
    "        self.drives = [[], pd.DataFrame()]\r\n",
    "        self.games = [[], pd.DataFrame()]\r\n",
    "        self.lines = [[], pd.DataFrame()]\r\n",
    "        self.player_game_stats = [[], pd.DataFrame()]\r\n",
    "        self.player_season_stats = [[], pd.DataFrame()]\r\n",
    "        self.player_usage = [[], pd.DataFrame()]\r\n",
    "        self.recruiting_groups = [[], pd.DataFrame()]\r\n",
    "        self.recruiting_players = [[], pd.DataFrame()]\r\n",
    "        self.recruiting_teams = [[], pd.DataFrame()]\r\n",
    "        self.venues = [[], pd.DataFrame()]\r\n",
    "\r\n",
    "    @staticmethod\r\n",
    "    def append_dfs(df, df_type):\r\n",
    "        # append df to list of dfs\r\n",
    "        df_type[0].append(df)\r\n",
    "        # concat list of dfs\r\n",
    "        df_type[1] = pd.concat(df_type[0])\r\n",
    "\r\n",
    "    @staticmethod\r\n",
    "    def impute_df(file):\r\n",
    "        # import data with Windows encoding\r\n",
    "        try:\r\n",
    "            df = pd.read_csv(file, encoding='ANSI')  # , na_values='?')\r\n",
    "            # df.fillna(pd.Series.mean(df))\r\n",
    "        # if not Windows, do Mac encoding\r\n",
    "        except LookupError:\r\n",
    "            try:\r\n",
    "                df = pd.read_csv(file, encoding='ISO-8859-1')  # , na_values='?')\r\n",
    "                # df.fillna(pd.Series.mean(df))\r\n",
    "            except pd.errors.EmptyDataError:\r\n",
    "                print(file, \"is empty\")\r\n",
    "                return\r\n",
    "        # if empty data, skip file\r\n",
    "        except pd.errors.EmptyDataError:\r\n",
    "            print(file, \"is empty\")\r\n",
    "            return\r\n",
    "        # set first row as headers\r\n",
    "        df.rename(columns=df.iloc[0])\r\n",
    "        return df\r\n",
    "\r\n",
    "    def csv_to_df(self, args):\r\n",
    "        # not time based\r\n",
    "        if len(args) == 1:\r\n",
    "            file = \"../data/{i}/{i}.csv\".format(i=args[0])\r\n",
    "        # season based\r\n",
    "        elif len(args) == 2:\r\n",
    "            file = \"../data/{i}/{j}_{i}.csv\".format(i=args[0], j=args[1])\r\n",
    "        # game based\r\n",
    "        else:\r\n",
    "            file = \"../data/{i}/{k}_week_{j}_{i}.csv\".format(i=args[0], j=args[1], k=args[2])\r\n",
    "        # import csv to df\r\n",
    "        df = self.impute_df(file)\r\n",
    "        # append non-empty dfs\r\n",
    "        if type(df) is not None:\r\n",
    "            exec(\"self.append_dfs(df, self.%s)\" % args[0])"
   ],
   "outputs": [],
   "metadata": {
    "collapsed": false,
    "pycharm": {
     "name": "#%%\n"
    }
   }
  },
  {
   "cell_type": "markdown",
   "source": [
    "Build the CFB dataframe with the scraped game data"
   ],
   "metadata": {
    "collapsed": false,
    "pycharm": {
     "name": "#%% md\n"
    }
   }
  },
  {
   "cell_type": "code",
   "execution_count": 3,
   "source": [
    "cfb_df = CFBDataframe()\r\n",
    "for directory in next(os.walk('../data'))[1]:\r\n",
    "    # non time specific dfs\r\n",
    "    if directory in [\"recruiting_groups\", \"recruiting_teams\", \"venues\"]:\r\n",
    "        try:\r\n",
    "            cfb_df.csv_to_df([directory])\r\n",
    "        except FileNotFoundError:\r\n",
    "            print(\"Missing data from\", directory)\r\n",
    "    else:\r\n",
    "        # season specific dfs\r\n",
    "        for year in range(2010, dt.today().year):\r\n",
    "            # week specific df\r\n",
    "            if directory == \"player_game_stats\":\r\n",
    "                for week in range(1, 17):\r\n",
    "                    try:\r\n",
    "                        cfb_df.csv_to_df([directory, week, year])\r\n",
    "                    except FileNotFoundError:\r\n",
    "                        print(\"Missing game data for\", year, \"week\", week)\r\n",
    "            elif directory == \"__pycache__\":\r\n",
    "                continue\r\n",
    "            else:\r\n",
    "                try:\r\n",
    "                    cfb_df.csv_to_df([directory, year])\r\n",
    "                except FileNotFoundError:\r\n",
    "                    print(\"Missing\", year, \"data for\", directory)"
   ],
   "outputs": [
    {
     "name": "stdout",
     "output_type": "stream",
     "text": [
      "Missing game data for 2010 week 16\n",
      "Missing game data for 2011 week 16\n",
      "Missing game data for 2012 week 16\n",
      "Missing game data for 2015 week 16\n",
      "Missing game data for 2016 week 16\n",
      "Missing game data for 2017 week 16\n",
      "Missing game data for 2018 week 16\n",
      "Missing game data for 2019 week 16\n",
      "Missing 2010 data for player_usage\n",
      "Missing 2011 data for player_usage\n",
      "Missing 2012 data for player_usage\n",
      "Missing 2010 data for lines\n",
      "Missing 2011 data for lines\n",
      "Missing 2012 data for lines\n"
     ]
    }
   ],
   "metadata": {
    "collapsed": false,
    "pycharm": {
     "name": "#%%\n"
    }
   }
  },
  {
   "cell_type": "markdown",
   "source": [
    "Here, we initialize attributes and methods used to manipulate CFB Model"
   ],
   "metadata": {
    "collapsed": false,
    "pycharm": {
     "name": "#%% md\n"
    }
   }
  },
  {
   "cell_type": "code",
   "execution_count": 4,
   "source": [
    "class CFBModel:\r\n",
    "    def __init__(self, df):\r\n",
    "        # dict of dfs\r\n",
    "        self.data = {\"drives\": df.drives[1], \"games\": df.games[1], \"lines\": df.lines[1],\r\n",
    "                     \"player_game_stats\": df.player_game_stats[1], \"player_season_stats\": df.player_season_stats[1],\r\n",
    "                     \"player_usage\": df.player_usage[1], \"recruiting_groups\": df.recruiting_groups[1],\r\n",
    "                     \"recruiting_players\": df.recruiting_players[1], \"recruiting_teams\": df.recruiting_teams[1],\r\n",
    "                     \"venues\": df.venues[1]}\r\n",
    "\r\n",
    "    def home_favored(self):\r\n",
    "        mean_home_points = pd.Series.mean(self.data[\"games\"][\"_home_points\"])\r\n",
    "        mean_away_points = pd.Series.mean(self.data[\"games\"][\"_away_points\"])\r\n",
    "        return mean_home_points - mean_away_points\r\n",
    "\r\n",
    "    def regression_predict(self, predictors):\r\n",
    "        regression_model = LinearRegression()\r\n",
    "        indep_vars = [self.data['games']['_home_post_win_prob'], self.data['games']['_home_points']]\r\n",
    "        dep_vars = self.data['games']['_home_points'] - self.data['games']['_away_points']\r\n",
    "        regression_model.fit(indep_vars, dep_vars)\r\n",
    "        prediction = regression_model.predict(predictors)\r\n",
    "        return prediction"
   ],
   "outputs": [],
   "metadata": {
    "collapsed": false,
    "pycharm": {
     "name": "#%%\n"
    }
   }
  },
  {
   "cell_type": "markdown",
   "source": [
    "Create and perform operations on model"
   ],
   "metadata": {
    "collapsed": false
   }
  },
  {
   "cell_type": "code",
   "execution_count": 5,
   "source": [
    "cfb_model = CFBModel(cfb_df)\r\n",
    "home_favor = cfb_model.home_favored()\r\n",
    "print(\"Home teams win by an average of {:.2f} points\".format(home_favor))\r\n",
    "num_cells = cfb_model.data['drives'].size + cfb_model.data['games'].size + cfb_model.data['lines'].size + \\\r\n",
    "            cfb_model.data['player_game_stats'].size + cfb_model.data['player_season_stats'].size + \\\r\n",
    "            cfb_model.data['player_usage'].size + cfb_model.data['recruiting_groups'].size + \\\r\n",
    "            cfb_model.data['recruiting_players'].size + cfb_model.data['recruiting_teams'].size + \\\r\n",
    "            cfb_model.data['venues'].size\r\n",
    "print(\"We have {} cells of data to work with 👀\".format(num_cells))\r\n",
    "# print(\"Prediction\", cfb_model.regression_predict([0.77, 34]))"
   ],
   "outputs": [
    {
     "name": "stdout",
     "output_type": "stream",
     "text": [
      "Home teams win by an average of 7.18 points\n",
      "We have 12507246 cells of data to work with 👀\n"
     ]
    }
   ],
   "metadata": {
    "collapsed": false,
    "pycharm": {
     "name": "#%%\n"
    }
   }
  },
  {
   "cell_type": "markdown",
   "source": [
    "Unit testing"
   ],
   "metadata": {
    "collapsed": false,
    "pycharm": {
     "name": "#%% md\n"
    }
   }
  },
  {
   "cell_type": "code",
   "execution_count": 6,
   "source": [
    "class TestRanking(unittest.TestCase):\r\n",
    "\r\n",
    "    def test_dfs(self):\r\n",
    "        self.assertEqual(len(cfb_model.data), 10)\r\n",
    "\r\n",
    "\r\n",
    "unittest.main(argv=[''], verbosity=0, exit=False)"
   ],
   "outputs": [
    {
     "name": "stderr",
     "output_type": "stream",
     "text": [
      "----------------------------------------------------------------------\n",
      "Ran 1 test in 0.000s\n",
      "\n",
      "OK\n"
     ]
    },
    {
     "data": {
      "text/plain": "<unittest.main.TestProgram at 0x1325a38e0>"
     },
     "execution_count": 6,
     "metadata": {},
     "output_type": "execute_result"
    }
   ],
   "metadata": {
    "collapsed": false,
    "pycharm": {
     "name": "#%%\n"
    }
   }
  }
 ],
 "metadata": {
  "kernelspec": {
   "name": "python3",
   "language": "python",
   "display_name": "Python 3"
  },
  "language_info": {
   "name": "python",
   "version": "3.9.1",
   "mimetype": "text/x-python",
   "codemirror_mode": {
    "name": "ipython",
    "version": 3
   },
   "pygments_lexer": "ipython3",
   "nbconvert_exporter": "python",
   "file_extension": ".py"
  },
  "pycharm": {
   "stem_cell": {
    "cell_type": "raw",
    "source": [
     "# CFB Ranking\n",
     "## The Code\n"
    ],
    "metadata": {
     "collapsed": false
    }
   }
  },
  "interpreter": {
   "hash": "ac59ebe37160ed0dfa835113d9b8498d9f09ceb179beaac4002f036b9467c963"
  }
 },
 "nbformat": 4,
 "nbformat_minor": 2
}