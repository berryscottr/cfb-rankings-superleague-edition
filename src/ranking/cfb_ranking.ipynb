{
 "cells": [
  {
   "cell_type": "markdown",
   "metadata": {
    "collapsed": true,
    "pycharm": {
     "name": "#%% md\n"
    }
   },
   "source": [
    "Import requirements"
   ]
  },
  {
   "cell_type": "code",
   "source": [
    "import os\n",
    "import sys\n",
    "import pandas as pd\n",
    "from datetime import datetime as dt"
   ],
   "metadata": {
    "collapsed": false,
    "pycharm": {
     "name": "#%%\n"
    }
   },
   "execution_count": 48,
   "outputs": []
  },
  {
   "cell_type": "markdown",
   "source": [
    "Here, we create the CFB Model Dataframes"
   ],
   "metadata": {
    "collapsed": false,
    "pycharm": {
     "name": "#%% md\n"
    }
   }
  },
  {
   "cell_type": "code",
   "source": [
    "class CFBDataframe:\n",
    "    def __init__(self):\n",
    "        # list of dfs and empty init df\n",
    "        self.drives = [[], pd.DataFrame()]\n",
    "        self.games = [[], pd.DataFrame()]\n",
    "        self.lines = [[], pd.DataFrame()]\n",
    "        self.player_game_stats = [[], pd.DataFrame()]\n",
    "        self.player_season_stats = [[], pd.DataFrame()]\n",
    "        self.player_usage = [[], pd.DataFrame()]\n",
    "        self.recruiting_groups = [[], pd.DataFrame()]\n",
    "        self.recruiting_players = [[], pd.DataFrame()]\n",
    "        self.recruiting_teams = [[], pd.DataFrame()]\n",
    "        self.venues = [[], pd.DataFrame()]\n",
    "\n",
    "    @staticmethod\n",
    "    def append_dfs(df, df_type):\n",
    "        # append df to list of dfs\n",
    "        df_type[0].append(df)\n",
    "        # concat list of dfs\n",
    "        df_type[1] = pd.concat(df_type[0])\n",
    "\n",
    "    @staticmethod\n",
    "    def impute_df(file):\n",
    "        # import data with Windows encoding\n",
    "        try:\n",
    "            df = pd.read_csv(file, encoding='ANSI')\n",
    "        # if not Windows, do Mac encoding\n",
    "        except LookupError:\n",
    "            df = pd.read_csv(file, encoding='ISO-8859-1')\n",
    "        # if empty data, skip file\n",
    "        except pd.errors.EmptyDataError:\n",
    "            print(file, \"is empty\")\n",
    "            return\n",
    "        # set first row as headers\n",
    "        df.rename(columns=df.iloc[0])\n",
    "        return df\n",
    "\n",
    "    def csv_to_df(self, args):\n",
    "        # not time based\n",
    "        if len(args) == 1:\n",
    "            file = \"../data/{i}/{i}.csv\".format(i=args[0])\n",
    "        # season based\n",
    "        elif len(args) == 2:\n",
    "            file = \"../data/{i}/{j}_{i}.csv\".format(i=args[0], j=args[1])\n",
    "        # game based\n",
    "        else:\n",
    "            file = \"../data/{i}/{k}_week_{j}_{i}.csv\".format(i=args[0], j=args[1], k=args[2])\n",
    "        # import csv to df\n",
    "        df = self.impute_df(file)\n",
    "        # append non-empty dfs\n",
    "        try:\n",
    "            if len(df) != 0:\n",
    "                exec(\"self.append_dfs(df, self.%s)\" % args[0])\n",
    "        except TypeError:\n",
    "            pass"
   ],
   "metadata": {
    "collapsed": false,
    "pycharm": {
     "name": "#%%\n"
    }
   },
   "execution_count": 49,
   "outputs": []
  },
  {
   "cell_type": "markdown",
   "source": [
    "Build the CFB dataframe with the scraped game data"
   ],
   "metadata": {
    "collapsed": false,
    "pycharm": {
     "name": "#%% md\n"
    }
   }
  },
  {
   "cell_type": "code",
   "source": [
    "cfb_df = CFBDataframe()\n",
    "for directory in next(os.walk('../data'))[1]:\n",
    "    # non time specific dfs\n",
    "    if directory in [\"recruiting_groups\", \"recruiting_teams\", \"venues\"]:\n",
    "        try:\n",
    "            cfb_df.csv_to_df([directory])\n",
    "        except FileNotFoundError:\n",
    "            print(\"Missing data from\", directory)\n",
    "            sys.exit()\n",
    "    else:\n",
    "        # season specific dfs\n",
    "        for year in range(2010, dt.today().year):\n",
    "            # week specific df\n",
    "            if directory == \"player_game_stats\":\n",
    "                for week in range(1, 17):\n",
    "                    try:\n",
    "                        cfb_df.csv_to_df([directory, week, year])\n",
    "                    except FileNotFoundError:\n",
    "                        print(\"Missing game data for\", year, \"week\", week)\n",
    "            else:\n",
    "                try:\n",
    "                    cfb_df.csv_to_df([directory, year])\n",
    "                except FileNotFoundError:\n",
    "                    print(\"Missing\", year, \"data for\", directory)"
   ],
   "metadata": {
    "collapsed": false,
    "pycharm": {
     "name": "#%%\n"
    }
   },
   "execution_count": 50,
   "outputs": [
    {
     "name": "stdout",
     "output_type": "stream",
     "text": [
      "Missing 2010 data for lines\n",
      "Missing 2011 data for lines\n",
      "Missing 2012 data for lines\n",
      "../data/player_game_stats/2010_week_16_player_game_stats.csv is empty\n",
      "../data/player_game_stats/2011_week_16_player_game_stats.csv is empty\n",
      "../data/player_game_stats/2012_week_16_player_game_stats.csv is empty\n",
      "../data/player_game_stats/2015_week_16_player_game_stats.csv is empty\n",
      "../data/player_game_stats/2016_week_16_player_game_stats.csv is empty\n",
      "../data/player_game_stats/2017_week_16_player_game_stats.csv is empty\n",
      "../data/player_game_stats/2018_week_16_player_game_stats.csv is empty\n",
      "../data/player_game_stats/2019_week_16_player_game_stats.csv is empty\n",
      "Missing 2010 data for player_usage\n",
      "Missing 2011 data for player_usage\n",
      "Missing 2012 data for player_usage\n"
     ]
    }
   ]
  },
  {
   "cell_type": "markdown",
   "source": [
    "Here, we initialize attributes and methods used to manipulate CFB Model"
   ],
   "metadata": {
    "collapsed": false,
    "pycharm": {
     "name": "#%% md\n"
    }
   }
  },
  {
   "cell_type": "code",
   "execution_count": 51,
   "outputs": [],
   "source": [
    "class CFBModel:\n",
    "    def __init__(self, df):\n",
    "        # dict of dfs\n",
    "        self.data = {\"drives\": df.drives[1], \"games\": df.games[1], \"lines\": df.lines[1],\n",
    "                     \"player_game_stats\": df.player_game_stats[1], \"player_season_stats\": df.player_season_stats[1],\n",
    "                     \"player_usage\": df.player_usage[1], \"recruiting_groups\": df.recruiting_groups[1],\n",
    "                     \"recruiting_players\": df.recruiting_players[1], \"recruiting_teams\": df.recruiting_teams[1],\n",
    "                     \"venues\": df.venues[1]}\n",
    "\n",
    "    def home_favored(self):\n",
    "        mean_home_points = pd.Series.mean(self.data[\"games\"][\"_home_points\"])\n",
    "        mean_away_points = pd.Series.mean(self.data[\"games\"][\"_away_points\"])\n",
    "        return mean_home_points - mean_away_points"
   ],
   "metadata": {
    "collapsed": false,
    "pycharm": {
     "name": "#%%\n"
    }
   }
  },
  {
   "cell_type": "markdown",
   "source": [
    "Create and perform operations on model"
   ],
   "metadata": {
    "collapsed": false
   }
  },
  {
   "cell_type": "code",
   "execution_count": 52,
   "outputs": [
    {
     "name": "stdout",
     "output_type": "stream",
     "text": [
      "Home teams win by an average of 7.18 points\n",
      "We have 12507246 cells of data to work with 👀\n"
     ]
    }
   ],
   "source": [
    "cfb_model = CFBModel(cfb_df)\n",
    "home_favor = cfb_model.home_favored()\n",
    "print(\"Home teams win by an average of {:.2f} points\".format(home_favor))\n",
    "num_cells = cfb_model.data['drives'].size + cfb_model.data['games'].size + cfb_model.data['lines'].size + \\\n",
    "            cfb_model.data['player_game_stats'].size + cfb_model.data['player_season_stats'].size + \\\n",
    "            cfb_model.data['player_usage'].size + cfb_model.data['recruiting_groups'].size + \\\n",
    "            cfb_model.data['recruiting_players'].size + cfb_model.data['recruiting_teams'].size + \\\n",
    "            cfb_model.data['venues'].size\n",
    "print(\"We have {} cells of data to work with 👀\".format(num_cells))"
   ],
   "metadata": {
    "collapsed": false,
    "pycharm": {
     "name": "#%%\n"
    }
   }
  }
 ],
 "metadata": {
  "kernelspec": {
   "display_name": "Python 3",
   "language": "python",
   "name": "python3"
  },
  "language_info": {
   "codemirror_mode": {
    "name": "ipython",
    "version": 2
   },
   "file_extension": ".py",
   "mimetype": "text/x-python",
   "name": "python",
   "nbconvert_exporter": "python",
   "pygments_lexer": "ipython2",
   "version": "2.7.6"
  },
  "pycharm": {
   "stem_cell": {
    "cell_type": "raw",
    "source": [
     "# CFB Ranking\n",
     "## The Code\n"
    ],
    "metadata": {
     "collapsed": false
    }
   }
  }
 },
 "nbformat": 4,
 "nbformat_minor": 0
}