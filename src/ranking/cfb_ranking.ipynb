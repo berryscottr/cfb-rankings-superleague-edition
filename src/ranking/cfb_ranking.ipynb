{
 "cells": [
  {
   "cell_type": "markdown",
   "source": [
    "Import requirements"
   ],
   "metadata": {
    "collapsed": true,
    "pycharm": {
     "name": "#%% md\n"
    }
   }
  },
  {
   "cell_type": "code",
   "execution_count": 21,
   "source": [
    "import os\r\n",
    "import pandas as pd\r\n",
    "from datetime import datetime as dt\r\n",
    "from sklearn.linear_model import LinearRegression\r\n",
    "import unittest\r\n",
    "import sklearn.preprocessing\r\n",
    "from sklearn.model_selection import train_test_split"
   ],
   "outputs": [],
   "metadata": {
    "collapsed": false,
    "pycharm": {
     "name": "#%%\n"
    }
   }
  },
  {
   "cell_type": "markdown",
   "source": [
    "Here, we create the CFB Model Dataframes"
   ],
   "metadata": {
    "collapsed": false,
    "pycharm": {
     "name": "#%% md\n"
    }
   }
  },
  {
   "cell_type": "code",
   "execution_count": 22,
   "source": [
    "class CFBDataframe:\r\n",
    "    def __init__(self):\r\n",
    "        # list of dfs values[0] and empty init df values[1]\r\n",
    "        self.data_map = {\"drives\": [[], pd.DataFrame()], \"games\": [[], pd.DataFrame()], \"lines\": [[], pd.DataFrame()],\r\n",
    "                         \"player_game_stats\": [[], pd.DataFrame()], \"player_season_stats\": [[], pd.DataFrame()],\r\n",
    "                         \"player_usage\": [[], pd.DataFrame()], \"recruiting_groups\": [[], pd.DataFrame()],\r\n",
    "                         \"recruiting_players\": [[], pd.DataFrame()], \"recruiting_teams\": [[], pd.DataFrame()],\r\n",
    "                         \"venues\": [[], pd.DataFrame()]}\r\n",
    "\r\n",
    "    @staticmethod\r\n",
    "    def append_dfs(df, df_type):\r\n",
    "        # append df to list of dfs\r\n",
    "        df_type[0].append(df)\r\n",
    "        # concat list of dfs\r\n",
    "        df_type[1] = pd.concat(df_type[0])\r\n",
    "\r\n",
    "    @staticmethod\r\n",
    "    def impute_df(file):\r\n",
    "        # import data with Windows encoding\r\n",
    "        try:\r\n",
    "            df = pd.read_csv(file, encoding='ANSI')  # , na_values='?')\r\n",
    "            # df.fillna(pd.Series.mean(df))\r\n",
    "        # if not Windows, do Mac encoding\r\n",
    "        except LookupError:\r\n",
    "            try:\r\n",
    "                df = pd.read_csv(file, encoding='ISO-8859-1')  # , na_values='?')\r\n",
    "                # df.fillna(pd.Series.mean(df))\r\n",
    "            except pd.errors.EmptyDataError:\r\n",
    "                print(file, \"is empty\")\r\n",
    "                return\r\n",
    "        # if empty data, skip file\r\n",
    "        except pd.errors.EmptyDataError:\r\n",
    "            print(file, \"is empty\")\r\n",
    "            return\r\n",
    "        # set first row as headers\r\n",
    "        df.rename(columns=df.iloc[0])\r\n",
    "        return df\r\n",
    "\r\n",
    "    def csv_to_df(self, args):\r\n",
    "        # not time based\r\n",
    "        if len(args) == 1:\r\n",
    "            file = \"../data/{i}/{i}.csv\".format(i=args[0])\r\n",
    "        # season based\r\n",
    "        elif len(args) == 2:\r\n",
    "            file = \"../data/{i}/{j}_{i}.csv\".format(i=args[0], j=args[1])\r\n",
    "        # game based\r\n",
    "        else:\r\n",
    "            file = \"../data/{i}/{k}_week_{j}_{i}.csv\".format(i=args[0], j=args[1], k=args[2])\r\n",
    "        # import csv to df\r\n",
    "        df = self.impute_df(file)\r\n",
    "        # append non-empty dfs\r\n",
    "        if type(df) is not None:\r\n",
    "            self.append_dfs(df, self.data_map[args[0]])"
   ],
   "outputs": [],
   "metadata": {
    "collapsed": false,
    "pycharm": {
     "name": "#%%\n"
    }
   }
  },
  {
   "cell_type": "markdown",
   "source": [
    "Build the CFB dataframe with the scraped game data"
   ],
   "metadata": {
    "collapsed": false,
    "pycharm": {
     "name": "#%% md\n"
    }
   }
  },
  {
   "cell_type": "code",
   "execution_count": 23,
   "source": [
    "cfb_df = CFBDataframe()\r\n",
    "for directory in next(os.walk('../data'))[1]:\r\n",
    "    # non time specific dfs\r\n",
    "    if directory in [\"recruiting_groups\", \"recruiting_teams\", \"venues\"]:\r\n",
    "        try:\r\n",
    "            cfb_df.csv_to_df([directory])\r\n",
    "        except FileNotFoundError:\r\n",
    "            print(\"Missing data from\", directory)\r\n",
    "    else:\r\n",
    "        # season specific dfs\r\n",
    "        for year in range(2010, dt.today().year):\r\n",
    "            # week specific df\r\n",
    "            if directory == \"player_game_stats\":\r\n",
    "                for week in range(1, 17):\r\n",
    "                    try:\r\n",
    "                        cfb_df.csv_to_df([directory, week, year])\r\n",
    "                    except FileNotFoundError:\r\n",
    "                        print(\"Missing game data for\", year, \"week\", week)\r\n",
    "            elif directory == \"__pycache__\":\r\n",
    "                continue\r\n",
    "            else:\r\n",
    "                try:\r\n",
    "                    cfb_df.csv_to_df([directory, year])\r\n",
    "                except FileNotFoundError:\r\n",
    "                    print(\"Missing\", year, \"data for\", directory)"
   ],
   "outputs": [
    {
     "output_type": "stream",
     "name": "stdout",
     "text": [
      "Missing 2010 data for lines\n",
      "Missing 2011 data for lines\n",
      "Missing 2012 data for lines\n",
      "Missing game data for 2010 week 16\n",
      "Missing game data for 2011 week 16\n",
      "Missing game data for 2012 week 16\n",
      "Missing game data for 2015 week 16\n",
      "Missing game data for 2016 week 16\n",
      "Missing game data for 2017 week 16\n",
      "Missing game data for 2018 week 16\n",
      "Missing game data for 2019 week 16\n",
      "Missing 2010 data for player_usage\n",
      "Missing 2011 data for player_usage\n",
      "Missing 2012 data for player_usage\n"
     ]
    }
   ],
   "metadata": {
    "collapsed": false,
    "pycharm": {
     "name": "#%%\n"
    }
   }
  },
  {
   "cell_type": "markdown",
   "source": [
    "Here, we initialize attributes and methods used to manipulate CFB Model"
   ],
   "metadata": {
    "collapsed": false,
    "pycharm": {
     "name": "#%% md\n"
    }
   }
  },
  {
   "cell_type": "code",
   "execution_count": 24,
   "source": [
    "class CFBModel:\r\n",
    "    def __init__(self, df):\r\n",
    "        # dict of dfs\r\n",
    "        self.data = {k: df[k][1] for k in df}\r\n",
    "\r\n",
    "    def home_favored(self):\r\n",
    "        mean_home_points = pd.Series.mean(self.data[\"games\"][\"_home_points\"])\r\n",
    "        mean_away_points = pd.Series.mean(self.data[\"games\"][\"_away_points\"])\r\n",
    "        return mean_home_points - mean_away_points\r\n",
    "\r\n",
    "    def regression_predict(self, predictors):\r\n",
    "        regression_model = LinearRegression()\r\n",
    "        indep_vars = [self.data['games']['_home_post_win_prob'], self.data['games']['_home_points']]\r\n",
    "        dep_vars = self.data['games']['_home_points'] - self.data['games']['_away_points']\r\n",
    "        regression_model.fit(indep_vars, dep_vars)\r\n",
    "        prediction = regression_model.predict(predictors)\r\n",
    "        return prediction\r\n",
    "\r\n",
    "    def spread_prediction(self):\r\n",
    "        regression_model = LinearRegression()\r\n",
    "        game_data = self.data['games']\r\n",
    "\r\n",
    "        # Select columns\r\n",
    "        x = game_data[['_season','_week','_season_type','_neutral_site','_conference_game','_venue_id','_home_id','_away_id','_home_conference','_away_conference']]\r\n",
    "        y = game_data['_home_points'] - game_data['_away_points']\r\n",
    "\r\n",
    "        # Data Transforms\r\n",
    "        x.loc[:,'_season_type'] = sklearn.preprocessing.LabelEncoder().fit_transform(x['_season_type'])\r\n",
    "        x.loc[:,'_home_conference'] = sklearn.preprocessing.LabelEncoder().fit_transform(x['_home_conference'])\r\n",
    "        x.loc[:,'_away_conference'] = sklearn.preprocessing.LabelEncoder().fit_transform(x['_away_conference'])\r\n",
    "        x.loc[:,'_venue_id'] = sklearn.preprocessing.LabelEncoder().fit_transform(x['_venue_id'])\r\n",
    "        x.loc[:,'_home_id'] = sklearn.preprocessing.LabelEncoder().fit_transform(x['_home_id'])\r\n",
    "        x.loc[:,'_away_id'] = sklearn.preprocessing.LabelEncoder().fit_transform(x['_away_id'])\r\n",
    "\r\n",
    "        x_train, x_test, y_train, y_test = train_test_split(x, y, test_size=.2, random_state=0)\r\n",
    "        regression_model.fit(x_train, y_train)\r\n",
    "        return regression_model.score(x_test, y_test)"
   ],
   "outputs": [],
   "metadata": {
    "collapsed": false,
    "pycharm": {
     "name": "#%%\n"
    }
   }
  },
  {
   "cell_type": "markdown",
   "source": [
    "Create and perform operations on model"
   ],
   "metadata": {
    "collapsed": false
   }
  },
  {
   "cell_type": "code",
   "execution_count": 25,
   "source": [
    "cfb_model = CFBModel(cfb_df.data_map)\r\n",
    "home_favor = cfb_model.home_favored()\r\n",
    "print(\"Home teams win by an average of {:.2f} points\".format(home_favor))\r\n",
    "num_cells = sum(cfb_model.data[k].size for k in cfb_model.data)\r\n",
    "print(\"We have {} cells of data to work with 👀\".format(num_cells))\r\n",
    "# print(\"Prediction\", cfb_model.regression_predict([0.77, 34]))"
   ],
   "outputs": [
    {
     "output_type": "stream",
     "name": "stdout",
     "text": [
      "Home teams win by an average of 7.18 points\n",
      "We have 12507246 cells of data to work with 👀\n"
     ]
    }
   ],
   "metadata": {
    "collapsed": false,
    "pycharm": {
     "name": "#%%\n"
    }
   }
  },
  {
   "cell_type": "code",
   "execution_count": 26,
   "source": [
    "spread_regression_model = CFBModel(cfb_df.data_map)\r\n",
    "spread_model_score = spread_regression_model.spread_prediction()\r\n",
    "print(spread_model_score)"
   ],
   "outputs": [
    {
     "output_type": "stream",
     "name": "stdout",
     "text": [
      "0.13046156139719112\n"
     ]
    },
    {
     "output_type": "stream",
     "name": "stderr",
     "text": [
      "C:\\Users\\Will\\AppData\\Roaming\\Python\\Python39\\site-packages\\pandas\\core\\indexing.py:1773: SettingWithCopyWarning: \n",
      "A value is trying to be set on a copy of a slice from a DataFrame.\n",
      "Try using .loc[row_indexer,col_indexer] = value instead\n",
      "\n",
      "See the caveats in the documentation: https://pandas.pydata.org/pandas-docs/stable/user_guide/indexing.html#returning-a-view-versus-a-copy\n",
      "  self._setitem_single_column(ilocs[0], value, pi)\n",
      "C:\\Users\\Will\\AppData\\Local\\Temp/ipykernel_17536/3841192896.py:29: SettingWithCopyWarning: \n",
      "A value is trying to be set on a copy of a slice from a DataFrame.\n",
      "Try using .loc[row_indexer,col_indexer] = value instead\n",
      "\n",
      "See the caveats in the documentation: https://pandas.pydata.org/pandas-docs/stable/user_guide/indexing.html#returning-a-view-versus-a-copy\n",
      "  x['_home_conference'] = sklearn.preprocessing.LabelEncoder().fit_transform(x['_home_conference'])\n",
      "C:\\Users\\Will\\AppData\\Local\\Temp/ipykernel_17536/3841192896.py:30: SettingWithCopyWarning: \n",
      "A value is trying to be set on a copy of a slice from a DataFrame.\n",
      "Try using .loc[row_indexer,col_indexer] = value instead\n",
      "\n",
      "See the caveats in the documentation: https://pandas.pydata.org/pandas-docs/stable/user_guide/indexing.html#returning-a-view-versus-a-copy\n",
      "  x['_away_conference'] = sklearn.preprocessing.LabelEncoder().fit_transform(x['_away_conference'])\n",
      "C:\\Users\\Will\\AppData\\Local\\Temp/ipykernel_17536/3841192896.py:31: SettingWithCopyWarning: \n",
      "A value is trying to be set on a copy of a slice from a DataFrame.\n",
      "Try using .loc[row_indexer,col_indexer] = value instead\n",
      "\n",
      "See the caveats in the documentation: https://pandas.pydata.org/pandas-docs/stable/user_guide/indexing.html#returning-a-view-versus-a-copy\n",
      "  x['_venue_id'] = sklearn.preprocessing.LabelEncoder().fit_transform(x['_venue_id'])\n",
      "C:\\Users\\Will\\AppData\\Local\\Temp/ipykernel_17536/3841192896.py:32: SettingWithCopyWarning: \n",
      "A value is trying to be set on a copy of a slice from a DataFrame.\n",
      "Try using .loc[row_indexer,col_indexer] = value instead\n",
      "\n",
      "See the caveats in the documentation: https://pandas.pydata.org/pandas-docs/stable/user_guide/indexing.html#returning-a-view-versus-a-copy\n",
      "  x['_home_id'] = sklearn.preprocessing.LabelEncoder().fit_transform(x['_home_id'])\n",
      "C:\\Users\\Will\\AppData\\Local\\Temp/ipykernel_17536/3841192896.py:33: SettingWithCopyWarning: \n",
      "A value is trying to be set on a copy of a slice from a DataFrame.\n",
      "Try using .loc[row_indexer,col_indexer] = value instead\n",
      "\n",
      "See the caveats in the documentation: https://pandas.pydata.org/pandas-docs/stable/user_guide/indexing.html#returning-a-view-versus-a-copy\n",
      "  x['_away_id'] = sklearn.preprocessing.LabelEncoder().fit_transform(x['_away_id'])\n"
     ]
    }
   ],
   "metadata": {}
  },
  {
   "cell_type": "markdown",
   "source": [
    "Unit testing"
   ],
   "metadata": {
    "collapsed": false,
    "pycharm": {
     "name": "#%% md\n"
    }
   }
  },
  {
   "cell_type": "code",
   "execution_count": 27,
   "source": [
    "class TestRanking(unittest.TestCase):\r\n",
    "\r\n",
    "    def test_dfs(self):\r\n",
    "        self.assertGreater(num_cells, 0)\r\n",
    "        self.assertEqual(type(cfb_model.data), dict)\r\n",
    "        self.assertEqual(len(cfb_model.data), 10)\r\n",
    "\r\n",
    "\r\n",
    "unittest.main(argv=[''], verbosity=0, exit=False)"
   ],
   "outputs": [
    {
     "output_type": "stream",
     "name": "stderr",
     "text": [
      "----------------------------------------------------------------------\n",
      "Ran 1 test in 0.000s\n",
      "\n",
      "OK\n"
     ]
    },
    {
     "output_type": "execute_result",
     "data": {
      "text/plain": [
       "<unittest.main.TestProgram at 0x1fc1121d2e0>"
      ]
     },
     "metadata": {},
     "execution_count": 27
    }
   ],
   "metadata": {
    "collapsed": false,
    "pycharm": {
     "name": "#%%\n"
    }
   }
  }
 ],
 "metadata": {
  "kernelspec": {
   "name": "python3",
   "display_name": "Python 3.9.1 64-bit"
  },
  "language_info": {
   "name": "python",
   "version": "3.9.1",
   "mimetype": "text/x-python",
   "codemirror_mode": {
    "name": "ipython",
    "version": 3
   },
   "pygments_lexer": "ipython3",
   "nbconvert_exporter": "python",
   "file_extension": ".py"
  },
  "pycharm": {
   "stem_cell": {
    "cell_type": "raw",
    "source": [
     "# CFB Ranking\n",
     "## The Code\n"
    ],
    "metadata": {
     "collapsed": false
    }
   }
  },
  "interpreter": {
   "hash": "ac59ebe37160ed0dfa835113d9b8498d9f09ceb179beaac4002f036b9467c963"
  }
 },
 "nbformat": 4,
 "nbformat_minor": 2
}