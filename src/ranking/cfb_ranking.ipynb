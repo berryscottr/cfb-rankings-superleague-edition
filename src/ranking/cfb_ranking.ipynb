{
 "cells": [
  {
   "cell_type": "markdown",
   "metadata": {
    "collapsed": true,
    "pycharm": {
     "name": "#%% md\n"
    }
   },
   "source": [
    "Import requirements"
   ]
  },
  {
   "cell_type": "code",
   "source": [
    "import pandas as pd\n",
    "from datetime import datetime as dt"
   ],
   "metadata": {
    "collapsed": false,
    "pycharm": {
     "name": "#%%\n"
    }
   },
   "execution_count": 44,
   "outputs": []
  },
  {
   "cell_type": "markdown",
   "source": [
    "Here, we create the CFB Model Dataframes"
   ],
   "metadata": {
    "collapsed": false,
    "pycharm": {
     "name": "#%% md\n"
    }
   }
  },
  {
   "cell_type": "code",
   "source": [
    "class CFBDataframe:\n",
    "    def __init__(self):\n",
    "        # initialize dataframes with headers\n",
    "        self.drives_df_list = []\n",
    "        self.drives_df = pd.DataFrame()\n",
    "        self.games_df_list = []\n",
    "        self.games_df = pd.DataFrame()\n",
    "        self.lines_df_list = []\n",
    "        self.lines_df = pd.DataFrame()\n",
    "        self.player_df_list = []\n",
    "        self.player_df = pd.DataFrame()\n",
    "        self.usage_df_list = []\n",
    "        self.usage_df = pd.DataFrame()\n",
    "        self.recruit_df_list = []\n",
    "        self.recruit_df = pd.DataFrame()\n",
    "\n",
    "    def csv_to_df(self, df_type, season):\n",
    "        # set file name\n",
    "        file = \"../data/{i}/{j}_{i}.csv\".format(i=df_type, j=season)\n",
    "        # import data with Windows encoding\n",
    "        try:\n",
    "            df = pd.read_csv(file, encoding='ANSI')\n",
    "        # if not Windows, do Mac encoding\n",
    "        except LookupError:\n",
    "            df = pd.read_csv(file, encoding='ISO-8859-1')\n",
    "        # set first row as headers\n",
    "        df.rename(columns=df.iloc[0])\n",
    "        # concatenate all years of data on dataframe type match\n",
    "        if df_type == \"drives\":\n",
    "            self.drives_df_list.append(df)\n",
    "            self.drives_df = pd.concat(self.drives_df_list)\n",
    "        elif df_type == \"games\":\n",
    "            self.games_df_list.append(df)\n",
    "            self.games_df = pd.concat(self.games_df_list)\n",
    "        elif df_type == \"lines\":\n",
    "            self.lines_df_list.append(df)\n",
    "            self.lines_df = pd.concat(self.lines_df_list)\n",
    "        elif df_type == \"player_season_stats\":\n",
    "            self.player_df_list.append(df)\n",
    "            self.player_df = pd.concat(self.player_df_list)\n",
    "        elif df_type == \"player_usage\":\n",
    "            self.usage_df_list.append(df)\n",
    "            self.usage_df = pd.concat(self.usage_df_list)\n",
    "        elif df_type == \"recruiting_players\":\n",
    "            self.recruit_df_list.append(df)\n",
    "            self.recruit_df = pd.concat(self.recruit_df_list)\n"
   ],
   "metadata": {
    "collapsed": false,
    "pycharm": {
     "name": "#%%\n"
    }
   },
   "execution_count": 45,
   "outputs": []
  },
  {
   "cell_type": "markdown",
   "source": [
    "Build the CFB dataframe with the scraped game data"
   ],
   "metadata": {
    "collapsed": false,
    "pycharm": {
     "name": "#%% md\n"
    }
   }
  },
  {
   "cell_type": "code",
   "source": [
    "cfb_df = CFBDataframe()\n",
    "for year in range(2010, dt.today().year):\n",
    "    for directory in [\"drives\", \"games\", \"lines\", \"player_season_stats\", \"player_usage\", \"recruiting_players\"]:\n",
    "        try:\n",
    "            cfb_df.csv_to_df(directory, year)\n",
    "        except FileNotFoundError:\n",
    "            pass"
   ],
   "metadata": {
    "collapsed": false,
    "pycharm": {
     "name": "#%%\n"
    }
   },
   "execution_count": 46,
   "outputs": []
  },
  {
   "cell_type": "markdown",
   "source": [
    "Here, we initialize attributes and methods used to manipulate CFB Model"
   ],
   "metadata": {
    "collapsed": false,
    "pycharm": {
     "name": "#%% md\n"
    }
   }
  },
  {
   "cell_type": "code",
   "execution_count": 47,
   "outputs": [],
   "source": [
    "class CFBModel:\n",
    "    def __init__(self, df):\n",
    "        self.drives_df = df.drives_df\n",
    "        self.games_df = df.games_df\n",
    "        self.lines_df = df.lines_df\n",
    "        self.player_df = df.player_df\n",
    "        self.usage_df = df.usage_df\n",
    "        self.recruit_df = df.recruit_df\n",
    "\n",
    "    def home_favored(self):\n",
    "        mean_home_points = pd.Series.mean(self.games_df['_home_points'])\n",
    "        mean_away_points = pd.Series.mode(self.games_df['_away_points'])\n",
    "        home_favored = mean_home_points - mean_away_points\n",
    "        return home_favored.values[0]"
   ],
   "metadata": {
    "collapsed": false,
    "pycharm": {
     "name": "#%%\n"
    }
   }
  },
  {
   "cell_type": "markdown",
   "source": [
    "Create and perform operations on model"
   ],
   "metadata": {
    "collapsed": false
   }
  },
  {
   "cell_type": "code",
   "execution_count": 48,
   "outputs": [
    {
     "name": "stdout",
     "output_type": "stream",
     "text": [
      "Home teams win by an average of 17.91 points\n"
     ]
    }
   ],
   "source": [
    "cfb_model = CFBModel(cfb_df)\n",
    "home_favor = cfb_model.home_favored()\n",
    "print(\"Home teams win by an average of {:.2f} points\".format(home_favor))"
   ],
   "metadata": {
    "collapsed": false,
    "pycharm": {
     "name": "#%%\n"
    }
   }
  }
 ],
 "metadata": {
  "kernelspec": {
   "display_name": "Python 3",
   "language": "python",
   "name": "python3"
  },
  "language_info": {
   "codemirror_mode": {
    "name": "ipython",
    "version": 2
   },
   "file_extension": ".py",
   "mimetype": "text/x-python",
   "name": "python",
   "nbconvert_exporter": "python",
   "pygments_lexer": "ipython2",
   "version": "2.7.6"
  },
  "pycharm": {
   "stem_cell": {
    "cell_type": "raw",
    "source": [
     "# CFB Ranking\n",
     "## The Code\n"
    ],
    "metadata": {
     "collapsed": false
    }
   }
  }
 },
 "nbformat": 4,
 "nbformat_minor": 0
}